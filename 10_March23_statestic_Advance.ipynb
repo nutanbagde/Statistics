{
 "cells": [
  {
   "cell_type": "markdown",
   "id": "552827be-282c-4937-9d31-bfea9f063762",
   "metadata": {},
   "source": [
    "### 1. What is Estimation Statistics? Explain point estimate and interval estimate."
   ]
  },
  {
   "cell_type": "markdown",
   "id": "f7db5794-c05b-4af7-817d-c70e4e2e370e",
   "metadata": {},
   "source": [
    "Estimation statistics refers to a branch of statistics that is concerned with using sample data to make inferences about the population from which the sample was drawn. The goal of estimation is to use the sample data to make a best guess or estimate about the unknown population parameter(s).\n",
    "\n",
    "There are two main types of estimation in statistics: point estimation and interval estimation.\n",
    "\n",
    "1.Point Estimate: A point estimate is a single value that is used to estimate an unknown population parameter. For example, if we want to estimate the population mean, we might use the sample mean as a point estimate of the true population mean. Similarly, if we want to estimate the population proportion, we might use the sample proportion as a point estimate of the true population proportion.\n",
    "\n",
    "2.Interval Estimate: An interval estimate is a range of values that is likely to contain the unknown population parameter with a certain degree of confidence. For example, if we want to estimate the population mean with a 95% confidence interval, we might calculate a range of values that is likely to contain the true population mean with 95% confidence. This range is called a confidence interval."
   ]
  },
  {
   "cell_type": "markdown",
   "id": "e36d4770-d2ec-4b0b-b470-7b8077b7a52e",
   "metadata": {},
   "source": [
    "---"
   ]
  },
  {
   "cell_type": "markdown",
   "id": "9202f5a5-4c6c-44db-80fa-063a9aa7f9df",
   "metadata": {},
   "source": [
    "### 2. Write a Python function to estimate the population mean using a sample mean and standard deviation."
   ]
  },
  {
   "cell_type": "code",
   "execution_count": 4,
   "id": "7ec083d5-97b9-4f0f-a48b-4550706bcc9a",
   "metadata": {
    "tags": []
   },
   "outputs": [
    {
     "name": "stdout",
     "output_type": "stream",
     "text": [
      "Sample mean: 175.07752670368413\n",
      "Estimated population mean: 175.07752670368413\n",
      "95% Confidence interval: (173.02651262576407, 177.1285407816042)\n"
     ]
    }
   ],
   "source": [
    "\n",
    "def estimate_pop_mean(sample_mean, sample_std, sample_size):\n",
    "    import math\n",
    "    standard_error = sample_std / math.sqrt(sample_size)\n",
    "    margin_of_error = 1.96 * standard_error\n",
    "    lower_bound = sample_mean - margin_of_error\n",
    "    upper_bound = sample_mean + margin_of_error \n",
    "    return (sample_mean, (lower_bound, upper_bound))\n",
    "\n",
    "import numpy as np\n",
    "male_weights = np.random.normal(175, 10, 100)\n",
    "\n",
    "sample_mean = np.mean(male_weights)\n",
    "sample_std = np.std(male_weights, ddof=1)\n",
    "sample_size = len(male_weights)\n",
    "pop_mean, confidence_interval = estimate_pop_mean(sample_mean, sample_std, sample_size)\n",
    "\n",
    "print(\"Sample mean:\", sample_mean)\n",
    "print(\"Estimated population mean:\", pop_mean)\n",
    "print(\"95% Confidence interval:\", confidence_interval)"
   ]
  },
  {
   "cell_type": "markdown",
   "id": "f3ad17e9-5bad-4963-8aa1-f1411279b3f8",
   "metadata": {},
   "source": [
    "---"
   ]
  },
  {
   "cell_type": "markdown",
   "id": "ebb6b932-14ed-4d15-8f9a-29d9b353759c",
   "metadata": {},
   "source": [
    "### 3. What is Hypothesis testing? Why is it used? State the importance of Hypothesis testing."
   ]
  },
  {
   "cell_type": "markdown",
   "id": "b31a0e3a-dff5-4802-97d0-7bb699e08d22",
   "metadata": {},
   "source": [
    "\n",
    "Hypothesis testing is a statistical technique used to determine whether a hypothesis about a population parameter is supported by the sample data. The hypothesis is typically a statement about the value of a population parameter, such as the population mean or proportion, and is tested using a statistical test.\n",
    "\n",
    "Hypothesis testing is used to make decisions based on sample data, such as whether to reject or fail to reject a null hypothesis. The null hypothesis is a statement that there is no significant difference or relationship between two variables, while the alternative hypothesis is a statement that there is a significant difference or relationship. By using hypothesis testing, we can determine whether the sample data provides enough evidence to reject the null hypothesis in favor of the alternative hypothesis.\n",
    "\n",
    "The importance of hypothesis testing lies in its ability to help us make decisions based on sample data in a rigorous and systematic way. It allows us to test hypotheses and make inferences about population parameters with a certain degree of confidence, while taking into account the potential for random variation in the sample data. By using hypothesis testing, we can make more informed decisions and draw more accurate conclusions about the population of interest."
   ]
  },
  {
   "cell_type": "markdown",
   "id": "507e3914-2ae8-4fdd-872d-25a3ec5d573a",
   "metadata": {},
   "source": [
    "---"
   ]
  },
  {
   "cell_type": "markdown",
   "id": "442d4c9d-4650-48dd-b191-0f88ed75bcfe",
   "metadata": {},
   "source": [
    "### 4. Create a hypothesis that states whether the average weight of male college students is greater than the average weight of female college students."
   ]
  },
  {
   "cell_type": "markdown",
   "id": "78141a73-e59c-4f1a-972a-f7387d7a69b4",
   "metadata": {},
   "source": [
    "\n",
    "Null hypothesis: The average weight of male college students is equal to or less than the average weight of female college students.\n",
    "\n",
    "Alternative hypothesis: The average weight of male college students is greater than the average weight of female college students.\n",
    "\n",
    "Symbolically, we can represent these hypotheses as:\n",
    "\n",
    "H0: μm ≤ μf Ha: μm > μf\n",
    "\n",
    "where H0 is the null hypothesis, Ha is the alternative hypothesis, μm is the population mean weight of male college students, and μf is the population mean weight of female college students."
   ]
  },
  {
   "cell_type": "markdown",
   "id": "9e5a0bd5-cca6-4f21-877e-d9adf673e3df",
   "metadata": {},
   "source": [
    "---"
   ]
  },
  {
   "cell_type": "markdown",
   "id": "c3d6ceae-c915-4068-af24-25dff5e54e08",
   "metadata": {},
   "source": [
    "### 5. Write a Python script to conduct a hypothesis test on the difference between two population means, given a sample from each population."
   ]
  },
  {
   "cell_type": "code",
   "execution_count": 1,
   "id": "1edc2291-21e0-4cb6-9d43-3a92af485731",
   "metadata": {
    "tags": []
   },
   "outputs": [
    {
     "name": "stdout",
     "output_type": "stream",
     "text": [
      "Fail to reject the null hypothesis\n",
      "t-statistic: 0.0\n",
      "p-value: 1.0\n"
     ]
    }
   ],
   "source": [
    "import numpy as np\n",
    "from scipy.stats import t\n",
    "\n",
    "sample1 = np.array([10, 12, 14, 16, 18])\n",
    "sample2 = np.array([8, 11, 14, 17, 20])\n",
    "\n",
    "mean1 = np.mean(sample1)\n",
    "std1 = np.std(sample1, ddof=1)\n",
    "mean2 = np.mean(sample2)\n",
    "std2 = np.std(sample2, ddof=1)\n",
    "\n",
    "alpha = 0.05\n",
    "df = len(sample1) + len(sample2) - 2\n",
    "\n",
    "sp = np.sqrt(((len(sample1)-1)*std1**2 + (len(sample2)-1)*std2**2) / df)\n",
    "t_stat = (mean1 - mean2) / (sp * np.sqrt(1/len(sample1) + 1/len(sample2)))\n",
    "p_val = t.sf(np.abs(t_stat), df) * 2\n",
    "\n",
    "if p_val < alpha:\n",
    "    print(\"Reject the null hypothesis\")\n",
    "else:\n",
    "    print(\"Fail to reject the null hypothesis\")\n",
    "    \n",
    "print(\"t-statistic:\", t_stat)\n",
    "print(\"p-value:\", p_val)"
   ]
  },
  {
   "cell_type": "markdown",
   "id": "4914db15-57ce-4297-9db4-162b7be7b6fc",
   "metadata": {},
   "source": [
    "---"
   ]
  },
  {
   "cell_type": "markdown",
   "id": "b2b01045-3853-4178-ab21-674782996465",
   "metadata": {},
   "source": [
    "### 6. What is a null and alternative hypothesis? Give some examples."
   ]
  },
  {
   "cell_type": "markdown",
   "id": "5f4025b7-fda8-4fd2-b099-802973a8179a",
   "metadata": {},
   "source": [
    "\n",
    "In statistics, a null hypothesis is a statement that assumes there is no significant relationship or difference between two or more variables, while an alternative hypothesis is a statement that assumes there is a significant relationship or difference between two or more variables.\n",
    "\n",
    "For example, if we are conducting a study to determine if a new drug is effective in treating a certain condition, the null hypothesis would be that the drug has no significant effect on the condition, while the alternative hypothesis would be that the drug does have a significant effect on the condition.\n",
    "\n",
    "Here are some more examples:\n",
    "\n",
    "Null hypothesis: There is no significant difference in weight loss between people who follow a low-fat diet and people who follow a low-carbohydrate diet. Alternative hypothesis: People who follow a low-carbohydrate diet lose more weight than people who follow a low-fat diet.\n",
    "\n",
    "Null hypothesis: There is no significant relationship between smoking and lung cancer. Alternative hypothesis: Smoking increases the risk of lung cancer.\n",
    "\n",
    "Null hypothesis: There is no significant difference in test scores between students who study alone and students who study in groups. Alternative hypothesis: Students who study in groups have higher test scores than students who study alone."
   ]
  },
  {
   "cell_type": "markdown",
   "id": "3878c516-2a2e-4695-ae0e-41f7d03eb84c",
   "metadata": {},
   "source": [
    "---"
   ]
  },
  {
   "cell_type": "markdown",
   "id": "1914d504-0aee-4583-bd4d-4dd0aed08c8e",
   "metadata": {},
   "source": [
    "### 7. Write down the steps involved in hypothesis testing."
   ]
  },
  {
   "cell_type": "markdown",
   "id": "0f25f8bb-05df-43da-8e20-276aa7379768",
   "metadata": {},
   "source": [
    "\n",
    "Hypothesis testing involves the following steps:\n",
    "\n",
    "1.Formulate the null hypothesis (H0) and alternative hypothesis (Ha) based on the research question or problem.\n",
    "\n",
    "2.Choose an appropriate statistical test based on the type of data and the research question.\n",
    "\n",
    "3.Determine the level of significance (α) and the sample size (n) required for the study.\n",
    "\n",
    "4.Collect the data and calculate the test statistic using the chosen statistical test.\n",
    "\n",
    "5.Determine the p-value, which is the probability of obtaining a test statistic as extreme as the observed value, assuming that the null hypothesis is true.\n",
    "\n",
    "6.Compare the p-value to the level of significance (α) to determine if the null hypothesis should be rejected or not. If the p-value is less than or equal to the level of significance, then reject the null hypothesis. Otherwise, fail to reject the null hypothesis.\n",
    "\n",
    "7.Interpret the results in the context of the research question or problem, and draw conclusions.\n",
    "\n",
    "8.Report the results in a clear and concise manner, including the test statistic, p-value, and conclusion."
   ]
  },
  {
   "cell_type": "markdown",
   "id": "0cde815a-4b27-47dd-b777-1976a15efa59",
   "metadata": {},
   "source": [
    "---"
   ]
  },
  {
   "cell_type": "markdown",
   "id": "a9a4ffcf-4e47-4c05-8a6d-dfe148e57ca5",
   "metadata": {},
   "source": [
    "### 8. Define p-value and explain its significance in hypothesis testing."
   ]
  },
  {
   "cell_type": "markdown",
   "id": "9360fe39-a8f2-48aa-96b4-5b4e26c48982",
   "metadata": {},
   "source": [
    "\n",
    "In statistics, the p-value is the probability of obtaining a test statistic as extreme as the observed value, assuming that the null hypothesis is true. The p-value is a measure of the strength of evidence against the null hypothesis.\n",
    "\n",
    "In hypothesis testing, we use the p-value to make a decision about whether to reject or fail to reject the null hypothesis. Specifically, we compare the p-value to the level of significance (α), which is the threshold for rejecting the null hypothesis. If the p-value is less than or equal to the level of significance, then we reject the null hypothesis. Otherwise, we fail to reject the null hypothesis.\n",
    "\n",
    "A smaller p-value indicates stronger evidence against the null hypothesis, while a larger p-value indicates weaker evidence against the null hypothesis. In general, a p-value less than 0.05 (or 0.01) is considered significant, which means that the observed result is unlikely to have occurred by chance alone, and we reject the null hypothesis. On the other hand, if the p-value is greater than the level of significance, then we do not have enough evidence to reject the null hypothesis, and we fail to reject the null hypothesis"
   ]
  },
  {
   "cell_type": "markdown",
   "id": "7a4c9e13-b811-4b8b-9035-a9a6467ffd78",
   "metadata": {},
   "source": [
    "---"
   ]
  },
  {
   "cell_type": "markdown",
   "id": "b43b6b9c-215e-4d0e-96e9-d2851a7b2326",
   "metadata": {},
   "source": [
    "### 9. Generate a Student's t-distribution plot using Python's matplotlib library, with the degrees of freedom parameter set to 10."
   ]
  },
  {
   "cell_type": "code",
   "execution_count": 2,
   "id": "02e4be08-7aa1-4556-97a9-0afcb3f4e7fd",
   "metadata": {
    "tags": []
   },
   "outputs": [
    {
     "data": {
      "image/png": "[encoded data removed]",
      "text/plain": [
       "<Figure size 640x480 with 1 Axes>"
      ]
     },
     "metadata": {},
     "output_type": "display_data"
    }
   ],
   "source": [
    "\n",
    "import numpy as np\n",
    "import matplotlib.pyplot as plt\n",
    "from scipy.stats import t\n",
    "\n",
    "df = 10\n",
    "x = np.linspace(-5, 5, 1000)\n",
    "y = t.pdf(x, df)\n",
    "\n",
    "plt.plot(x, y)\n",
    "plt.xlabel('x')\n",
    "plt.ylabel('PDF')\n",
    "plt.title('Student\\'s t-Distribution with ' + str(df) + ' Degrees of Freedom')\n",
    "\n",
    "# Display the plot\n",
    "plt.show()"
   ]
  },
  {
   "cell_type": "markdown",
   "id": "8a9ed50d-2e0c-4b41-b2d1-f512b2e3566c",
   "metadata": {},
   "source": [
    "---"
   ]
  },
  {
   "cell_type": "markdown",
   "id": "fb8e3272-02b0-404e-b391-c1264931cb2a",
   "metadata": {},
   "source": [
    "### 10. Write a Python program to calculate the two-sample t-test for independent samples, given two random samples of equal size and a null hypothesis that the population means are equal."
   ]
  },
  {
   "cell_type": "code",
   "execution_count": 3,
   "id": "aee3b148-2a94-4f9f-aff1-abe7aa0396ed",
   "metadata": {
    "tags": []
   },
   "outputs": [
    {
     "name": "stdout",
     "output_type": "stream",
     "text": [
      "Null hypothesis: The population means of the two samples are equal.\n",
      "Sample 1 mean: 10.323499630045562\n",
      "Sample 2 mean: 11.976805676313486\n",
      "t-statistic: -5.811651132144604\n",
      "p-value: 2.4410899636952968e-08\n",
      "We reject the null hypothesis.\n"
     ]
    }
   ],
   "source": [
    "\n",
    "import numpy as np\n",
    "from scipy.stats import ttest_ind\n",
    "\n",
    "sample1 = np.random.normal(loc=10, scale=2, size=100)\n",
    "sample2 = np.random.normal(loc=12, scale=2, size=100)\n",
    "\n",
    "null_hypothesis = \"The population means of the two samples are equal.\"\n",
    "t_stat, p_val = ttest_ind(sample1, sample2)\n",
    "alpha = 0.05\n",
    "\n",
    "print(\"Null hypothesis:\", null_hypothesis)\n",
    "print(\"Sample 1 mean:\", np.mean(sample1))\n",
    "print(\"Sample 2 mean:\", np.mean(sample2))\n",
    "print(\"t-statistic:\", t_stat)\n",
    "print(\"p-value:\", p_val)\n",
    "if p_val < alpha:\n",
    "    print(\"We reject the null hypothesis.\")\n",
    "else:\n",
    "    print(\"We fail to reject the null hypothesis.\")"
   ]
  },
  {
   "cell_type": "markdown",
   "id": "8a2096bb-1401-440e-a169-c45ef53e2761",
   "metadata": {},
   "source": [
    "---"
   ]
  },
  {
   "cell_type": "markdown",
   "id": "13ad5ec6-b0c9-4a3f-8efa-dd54f25d1c2c",
   "metadata": {},
   "source": [
    "### 11. What is Student’s t distribution? When to use the t-Distribution."
   ]
  },
  {
   "cell_type": "markdown",
   "id": "95cde816-c44b-4f99-a994-14f4ffbb4bc0",
   "metadata": {},
   "source": [
    "\n",
    "The Student's t-distribution is a probability distribution that is used to test hypotheses about the mean of a population when the sample size is small and the population standard deviation is unknown. It is similar to the standard normal distribution but with heavier tails, which reflects the greater uncertainty in the estimate of the population mean when the sample size is small.\n",
    "\n",
    "The t-distribution is a family of distributions, each corresponding to a different number of degrees of freedom. The degrees of freedom depend on the sample size and determine the shape of the t-distribution. As the sample size increases, the t-distribution approaches the standard normal distribution.\n",
    "\n",
    "The t-distribution is typically used in hypothesis testing when the sample size is small (less than 30) and the population standard deviation is unknown. It is also used to construct confidence intervals for the population mean. The t-distribution allows us to calculate the probability of obtaining a sample mean that is as extreme or more extreme than the observed sample mean, given the null hypothesis that the population mean is a particular value.\n",
    "\n",
    "The t-distribution is used in a variety of statistical applications, including:\n",
    "\n",
    "Testing hypotheses about the population mean when the sample size is small and the population standard deviation is unknown\n",
    "\n",
    "Constructing confidence intervals for the population mean when the sample size is small and the population standard deviation is unknown\n",
    "\n",
    "Performing regression analysis when the residuals are normally distributed with constant variance (i.e., homoscedasticity)\n",
    "\n",
    "Comparing the means of two independent samples when the population standard deviations are unknown and assumed to be equal"
   ]
  },
  {
   "cell_type": "markdown",
   "id": "d155f7bd-bfaf-410a-b3ca-0e434ada4963",
   "metadata": {},
   "source": [
    "---"
   ]
  },
  {
   "cell_type": "markdown",
   "id": "de016d97-a2e3-471e-a1a8-36e0e4ed1bc9",
   "metadata": {},
   "source": [
    "### 12. What is t-statistic? State the formula for t-statistic."
   ]
  },
  {
   "cell_type": "markdown",
   "id": "87eda202-69a4-4e0c-875d-33ffb783b92e",
   "metadata": {},
   "source": [
    "\n",
    "The t-statistic is a measure of how far the sample mean deviates from the hypothesized population mean, in units of the standard error of the sample mean. It is used in hypothesis testing to determine whether the observed difference between the sample mean and the hypothesized population mean is statistically significant.\n",
    "\n",
    "The formula for the t-statistic is:\n",
    "\n",
    "t = (x̄ - μ) / (s / sqrt(n))\n",
    "\n",
    "where:\n",
    "\n",
    "x̄ is the sample mean\n",
    "\n",
    "μ is the hypothesized population mean\n",
    "\n",
    "s is the sample standard deviation\n",
    "\n",
    "n is the sample size\n",
    "\n",
    "The t-statistic measures the difference between the sample mean and the hypothesized population mean, in units of the standard error of the sample mean. The standard error of the sample mean is a measure of how much the sample mean is likely to vary from one sample to another, due to chance variability in the sample."
   ]
  },
  {
   "cell_type": "markdown",
   "id": "fb14cb28-0fea-470e-a3b0-3d095d637cd6",
   "metadata": {},
   "source": [
    "---"
   ]
  },
  {
   "cell_type": "markdown",
   "id": "b21a566e-b902-4c58-b5d8-902bda9aa6e3",
   "metadata": {},
   "source": [
    "### 13. A coffee shop owner wants to estimate the average daily revenue for their shop. They take a random sample of 50 days and find the sample mean revenue to be 500 with a standard deviation of $50. Estimate the population mean revenue with a 95% confidence interval."
   ]
  },
  {
   "cell_type": "markdown",
   "id": "79f9fbcb-cb5f-4fa0-aa5b-8816adbeb8c2",
   "metadata": {},
   "source": [
    "\n",
    "To estimate the population mean revenue with a 95% confidence interval, we can use the following formula:\n",
    "\n",
    "Confidence Interval = sample mean ± (t_critical * standard error)\n",
    "\n",
    "where:\n",
    "\n",
    "sample mean = \n",
    "50 sample size (n) = 50 degree of freedom (df) = n - 1 = 49 t_critical for 95% confidence level = 2.009 (from t-distribution table)\n",
    "\n",
    "First, we need to calculate the standard error:\n",
    "\n",
    "standard error = standard deviation / sqrt(n) standard error = \n",
    "7.07\n",
    "\n",
    "Next, we can calculate the confidence interval:\n",
    "\n",
    "Confidence Interval = \n",
    "7.07) Confidence Interval = \n",
    "14.20\n",
    "\n",
    "Therefore, the 95% confidence interval for the population mean revenue is between \n",
    "500 - \n",
    "514.20 (\n",
    "14.20). We can be 95% confident that the true population mean revenue falls within this interval."
   ]
  },
  {
   "cell_type": "markdown",
   "id": "6da87e47-c0ec-4afe-9d7e-167feeb06a29",
   "metadata": {},
   "source": [
    "---"
   ]
  },
  {
   "cell_type": "markdown",
   "id": "36a72150-d278-46cc-a295-cd1d601c5719",
   "metadata": {},
   "source": [
    "### 14. A researcher hypothesizes that a new drug will decrease blood pressure by 10 mmHg. They conduct a clinical trial with 100 patients and find that the sample mean decrease in blood pressure is 8 mmHg with a standard deviation of 3 mmHg. Test the hypothesis with a significance level of 0.05."
   ]
  },
  {
   "cell_type": "markdown",
   "id": "65553c01-83d8-4bdd-af8e-b7ddf725fe66",
   "metadata": {},
   "source": [
    "\n",
    "To test the hypothesis that the new drug decreases blood pressure by 10 mmHg with a significance level of 0.05, we can use a one-sample t-test.\n",
    "\n",
    "The null hypothesis is that the mean decrease in blood pressure is not significantly different from 10 mmHg. The alternative hypothesis is that the mean decrease in blood pressure is significantly less than 10 mmHg.\n",
    "\n",
    "Ho: μ = 10\n",
    "\n",
    "Ha: μ < 10\n",
    "\n",
    "We can use the following formula to calculate the t-statistic:\n",
    "\n",
    "t = (x̄ - μ) / (s / sqrt(n))\n",
    "\n",
    "where:\n",
    "\n",
    "x̄ is the sample mean (8 mmHg)\n",
    "\n",
    "μ is the hypothesized population mean (10 mmHg)\n",
    "\n",
    "s is the sample standard deviation (3 mmHg)\n",
    "\n",
    "n is the sample size (100)\n",
    "\n",
    "t = (8 - 10) / (3 / sqrt(100))\n",
    "\n",
    "t = -4.47\n",
    "\n",
    "The degrees of freedom (df) for the test is n-1 = 99.\n",
    "\n",
    "Using a t-distribution table or a statistical software, we can find the critical value for the one-tailed test with 99 degrees of freedom at a significance level of 0.05. For a one-tailed test with a 0.05 significance level and 99 degrees of freedom, the critical value is -1.660. Since the calculated t-value (-4.47) is less than the critical value (-1.660), we reject the null hypothesis and conclude that the new drug significantly decreases blood pressure.\n",
    "\n",
    "Therefore, we can conclude that the new drug significantly decreases blood pressure by more than 10 mmHg at a significance level of 0.05."
   ]
  },
  {
   "cell_type": "markdown",
   "id": "fbca4655-d965-4fad-92e5-a9efc3d80535",
   "metadata": {},
   "source": [
    "---"
   ]
  },
  {
   "cell_type": "markdown",
   "id": "5fbea59c-ee8d-41b3-8151-f42d64b93e5c",
   "metadata": {},
   "source": [
    "### 15. An electronics company produces a certain type of product with a mean weight of 5 pounds and a standard deviation of 0.5 pounds. A random sample of 25 products is taken, and the sample mean weight is found to be 4.8 pounds. Test the hypothesis that the true mean weight of the products is less than 5 pounds with a significance level of 0.01."
   ]
  },
  {
   "cell_type": "markdown",
   "id": "b7128336-e28e-45d9-b9aa-9acd7f31d5d4",
   "metadata": {},
   "source": [
    "\n",
    "To test the hypothesis that the true mean weight of the products is less than 5 pounds with a significance level of 0.01, we can use a one-sample t-test.\n",
    "\n",
    "The null hypothesis is that the true mean weight of the products is equal to 5 pounds. The alternative hypothesis is that the true mean weight is less than 5 pounds.\n",
    "\n",
    "Ho: μ = 5\n",
    "\n",
    "Ha: μ < 5\n",
    "\n",
    "We can use the following formula to calculate the t-statistic:\n",
    "\n",
    "t = (x̄ - μ) / (s / sqrt(n))\n",
    "\n",
    "where:\n",
    "\n",
    "x̄ is the sample mean weight (4.8 pounds)\n",
    "\n",
    "μ is the hypothesized population mean weight (5 pounds)\n",
    "\n",
    "s is the sample standard deviation (0.5 pounds)\n",
    "\n",
    "n is the sample size (25)\n",
    "\n",
    "t = (4.8 - 5) / (0.5 / sqrt(25))\n",
    "\n",
    "t = -2\n",
    "\n",
    "The degrees of freedom (df) for the test is n-1 = 24.\n",
    "\n",
    "Using a t-distribution table or a statistical software, we can find the critical value for the one-tailed test with 24 degrees of freedom at a significance level of 0.01. For a one-tailed test with a 0.01 significance level and 24 degrees of freedom, the critical value is -2.492. Since the calculated t-value (-2) is greater than the critical value (-2.492), we fail to reject the null hypothesis."
   ]
  },
  {
   "cell_type": "markdown",
   "id": "6f9dbb1e-933b-4c8f-9fb1-7e0538ff1ee8",
   "metadata": {},
   "source": [
    "---"
   ]
  },
  {
   "cell_type": "markdown",
   "id": "9a89e383-bd7c-44b3-b88b-be4192360b54",
   "metadata": {},
   "source": [
    "# 16. Two groups of students are given different study materials to prepare for a test. The first group (n1 =30) has a mean score of 80 with a standard deviation of 10, and the second group (n2 = 40) has a mean score of 75 with a standard deviation of 8. Test the hypothesis that the population means for the two groups are equal with a significance level of 0.01."
   ]
  },
  {
   "cell_type": "markdown",
   "id": "6bfaca75-da1e-4259-83a4-22999fc43446",
   "metadata": {},
   "source": [
    "\n",
    "To test the hypothesis that the population means for the two groups are equal, we can use a two-sample t-test. The null hypothesis is that the population means are equal, while the alternative hypothesis is that they are not equal.\n",
    "\n",
    "We can calculate the test statistic as follows:\n",
    "\n",
    "t = (x1 - x2) / sqrt((s1^2/n1) + (s2^2/n2))\n",
    "\n",
    "where x1 and x2 are the sample means, s1 and s2 are the sample standard deviations, and n1 and n2 are the sample sizes.\n",
    "\n",
    "Using the values given in the problem, we have:\n",
    "\n",
    "x1 = 80, s1 = 10, n1 = 30\n",
    "\n",
    "x2 = 75, s2 = 8, n2 = 40\n",
    "\n",
    "t = (80 - 75) / sqrt((10^2/30) + (8^2/40))\n",
    "\n",
    "t = 2.44\n",
    "\n",
    "Using a t-distribution table with degrees of freedom df = n1 + n2 - 2 = 68 and a significance level of 0.01 (two-tailed test), we find the critical t-value to be ±2.662.\n",
    "\n",
    "Since our calculated t-value of 2.44 is less than the critical t-value of 2.662, we fail to reject the null hypothesis. Therefore, we do not have sufficient evidence to conclude that the population means for the two groups are different at a significance level of 0.01."
   ]
  },
  {
   "cell_type": "markdown",
   "id": "e9e52264-2c98-4a8c-b522-3aca19240e91",
   "metadata": {},
   "source": [
    "---"
   ]
  },
  {
   "cell_type": "markdown",
   "id": "d68889f2-4fc4-4293-9def-8bdba9993467",
   "metadata": {},
   "source": [
    "### 17. A marketing company wants to estimate the average number of ads watched by viewers during a TV program. They take a random sample of 50 viewers and find that the sample mean is 4 with a standard deviation of 1.5. Estimate the population mean with a 99% confidence interval."
   ]
  },
  {
   "cell_type": "markdown",
   "id": "249ba6e1-1ee5-4a75-8afa-de566a17de0d",
   "metadata": {},
   "source": [
    "To estimate the population mean with a 99% confidence interval, we can use the formula:\n",
    "\n",
    "CI = x̄ ± z*(σ/√n)\n",
    "\n",
    "where x̄ is the sample mean, σ is the population standard deviation (unknown in this case), n is the sample size, z is the critical value from the standard normal distribution corresponding to the desired confidence level (99% in this case), and CI is the confidence interval.\n",
    "\n",
    "Using the values given in the problem, we have:\n",
    "\n",
    "x̄ = 4\n",
    "\n",
    "σ = 1.5 (unknown)\n",
    "\n",
    "n = 50\n",
    "\n",
    "z = 2.576 (from a standard normal distribution table for a 99% confidence level)\n",
    "\n",
    "Substituting these values into the formula, we get:\n",
    "\n",
    "CI = 4 ± 2.576*(1.5/√50)\n",
    "\n",
    "CI = 4 ± 0.653\n",
    "\n",
    "Therefore, the 99% confidence interval for the population mean is (3.347, 4.653). We are 99% confident that the true average number of ads watched by viewers during a TV program falls within this interval."
   ]
  },
  {
   "cell_type": "markdown",
   "id": "ddd4a4af-2167-40e3-8f41-ebb00120a09b",
   "metadata": {},
   "source": [
    "---"
   ]
  }
 ],
 "metadata": {
  "kernelspec": {
   "display_name": "Python 3 (ipykernel)",
   "language": "python",
   "name": "python3"
  },
  "language_info": {
   "codemirror_mode": {
    "name": "ipython",
    "version": 3
   },
   "file_extension": ".py",
   "mimetype": "text/x-python",
   "name": "python",
   "nbconvert_exporter": "python",
   "pygments_lexer": "ipython3",
   "version": "3.11.1"
  }
 },
 "nbformat": 4,
 "nbformat_minor": 5
}
