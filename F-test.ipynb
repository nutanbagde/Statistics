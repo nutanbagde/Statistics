{
 "cells": [
  {
   "cell_type": "code",
   "execution_count": 2,
   "id": "7b60aecc-9449-413e-b4d1-4363f460ccc1",
   "metadata": {
    "tags": []
   },
   "outputs": [],
   "source": [
    "## Evidenvce to say that the two population variences are not equal\n",
    "## check can we come to conclusion whether one worker is better than the other\n",
    "worker1=[18,19,22,25,27,28,41,45,51,55]\n",
    "worker2=[14,15,15,17,18,22,25,25,27,34]"
   ]
  },
  {
   "cell_type": "code",
   "execution_count": 3,
   "id": "981a60cb-02f5-4aaa-aabc-f7baeb8e6f40",
   "metadata": {
    "tags": []
   },
   "outputs": [],
   "source": [
    "## calculate the F-test ststestics\n",
    "import numpy as np\n",
    "f_test=np.var(worker1)/np.var(worker2)"
   ]
  },
  {
   "cell_type": "code",
   "execution_count": 4,
   "id": "cf190272-ee24-4626-b17f-b5864764d635",
   "metadata": {
    "tags": []
   },
   "outputs": [
    {
     "data": {
      "text/plain": [
       "4.387122002085506"
      ]
     },
     "execution_count": 4,
     "metadata": {},
     "output_type": "execute_result"
    }
   ],
   "source": [
    "f_test"
   ]
  },
  {
   "cell_type": "code",
   "execution_count": 7,
   "id": "bbceea7e-6dfa-40d9-94b1-b540268c8063",
   "metadata": {
    "tags": []
   },
   "outputs": [],
   "source": [
    "## degree of freedom\n",
    "df1=len(worker1)-1\n",
    "df2=len(worker2)-1\n",
    "signoficance_value=0.05"
   ]
  },
  {
   "cell_type": "code",
   "execution_count": 8,
   "id": "9483fe1b-2828-4864-8419-89685030231b",
   "metadata": {
    "tags": []
   },
   "outputs": [],
   "source": [
    "import scipy.stats as stat"
   ]
  },
  {
   "cell_type": "code",
   "execution_count": 9,
   "id": "c6a46883-5ddc-4408-a50e-7264d658d994",
   "metadata": {
    "tags": []
   },
   "outputs": [],
   "source": [
    "critical_value=stat.f.ppf(q=1-signoficance_value, dfn=df1,dfd=df2)"
   ]
  },
  {
   "cell_type": "code",
   "execution_count": 10,
   "id": "9e857a80-2a82-4f2d-9dc5-ae599188dfed",
   "metadata": {
    "tags": []
   },
   "outputs": [
    {
     "data": {
      "text/plain": [
       "3.17889310445827"
      ]
     },
     "execution_count": 10,
     "metadata": {},
     "output_type": "execute_result"
    }
   ],
   "source": [
    "critical_value"
   ]
  },
  {
   "cell_type": "code",
   "execution_count": 11,
   "id": "655705a7-cf01-455a-9f1c-25d9176682b9",
   "metadata": {
    "tags": []
   },
   "outputs": [
    {
     "name": "stdout",
     "output_type": "stream",
     "text": [
      "Reject the null hypothesis\n"
     ]
    }
   ],
   "source": [
    "if f_test>critical_value:\n",
    "    print(\"Reject the null hypothesis\")\n",
    "    \n",
    "else:\n",
    "    print(\"we fail to Reject the null hypothesis\")"
   ]
  },
  {
   "cell_type": "code",
   "execution_count": 13,
   "id": "dafdda25-1e56-4be1-8da6-74883d09ac29",
   "metadata": {
    "tags": []
   },
   "outputs": [
    {
     "name": "stdout",
     "output_type": "stream",
     "text": [
      "853\n"
     ]
    }
   ],
   "source": [
    "a=[9,8,7,8,8,9,8,7,6,6,7,8,7,6,4,3,2,3,4,3,2]\n",
    "s=0\n",
    "for i in a:\n",
    "    s=s+(i**2)\n",
    "print(s)"
   ]
  },
  {
   "cell_type": "code",
   "execution_count": null,
   "id": "60e71763-3714-485a-b598-aa59c89defe8",
   "metadata": {},
   "outputs": [],
   "source": []
  }
 ],
 "metadata": {
  "kernelspec": {
   "display_name": "Python 3 (ipykernel)",
   "language": "python",
   "name": "python3"
  },
  "language_info": {
   "codemirror_mode": {
    "name": "ipython",
    "version": 3
   },
   "file_extension": ".py",
   "mimetype": "text/x-python",
   "name": "python",
   "nbconvert_exporter": "python",
   "pygments_lexer": "ipython3",
   "version": "3.11.1"
  }
 },
 "nbformat": 4,
 "nbformat_minor": 5
}
