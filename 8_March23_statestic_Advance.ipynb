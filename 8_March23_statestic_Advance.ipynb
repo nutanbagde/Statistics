{
 "cells": [
  {
   "cell_type": "markdown",
   "id": "05a4785a-f8d8-4315-809b-06e6c5a99b48",
   "metadata": {
    "tags": []
   },
   "source": [
    "### 1. What is the Probability density function?"
   ]
  },
  {
   "cell_type": "markdown",
   "id": "bf04d4ae-67cd-4d89-b526-3f6a45fb9bae",
   "metadata": {},
   "source": [
    "A probability density function (PDF) is a function that describes the probability distribution of a continuous random variable. The PDF describes the relative likelihood of a value occurring within a given range of values.\n",
    "\n",
    "The PDF is defined such that the integral over any range of values gives the probability of the random variable taking on a value in that range. The PDF is non-negative for all possible values of the random variable, and the total area under the curve of the PDF is equal to 1.\n",
    "\n",
    "In mathematical notation, the PDF of a continuous random variable X is denoted as f(x), and is defined as:\n",
    "\n",
    "f(x) = dF(x)/dx\n",
    "\n",
    "where F(x) is the cumulative distribution function (CDF) of X. The CDF gives the probability that X takes on a value less than or equal to x. Thus, the PDF gives the rate of change of the CDF with respect to x."
   ]
  },
  {
   "cell_type": "markdown",
   "id": "ce92d356-ed36-4762-b41c-4c0939c66e3f",
   "metadata": {},
   "source": [
    "---"
   ]
  },
  {
   "cell_type": "markdown",
   "id": "3e0cf644-0334-4eed-a835-fad03a29fa58",
   "metadata": {},
   "source": [
    "### 2. What are the types of Probability distribution?\n"
   ]
  },
  {
   "cell_type": "markdown",
   "id": "d1507df2-f3c0-41d9-8f60-04572346b002",
   "metadata": {},
   "source": [
    "1.Normal/Gaussian Distribution\n",
    "\n",
    "2.Bernoulli Distribution\n",
    "\n",
    "3.Uniform Distribution\n",
    "\n",
    "4.Log Normal Distribution\n",
    "\n",
    "5.Poisson Distribution\n",
    "\n",
    "6.Power Law Distribution\n",
    "\n",
    "7.Binomial Distribution"
   ]
  },
  {
   "cell_type": "markdown",
   "id": "e9351e38-e5ad-4973-b520-ffd2ce0b1800",
   "metadata": {},
   "source": [
    "----"
   ]
  },
  {
   "cell_type": "markdown",
   "id": "6f1163aa-fc3e-4b74-afee-7d22394f0a25",
   "metadata": {},
   "source": [
    "### 3. Write a Python function to calculate the probability density function of a normal distribution with given mean and standard deviation at a given point.\n"
   ]
  },
  {
   "cell_type": "code",
   "execution_count": 5,
   "id": "47e116cb-432e-43ad-872d-8c9071c86e79",
   "metadata": {
    "tags": []
   },
   "outputs": [
    {
     "name": "stdout",
     "output_type": "stream",
     "text": [
      "0.10798193302637613\n"
     ]
    }
   ],
   "source": [
    "from scipy.stats import norm\n",
    "\n",
    "def normal_pdf(x, mu, sigma):\n",
    "    pdf = norm.pdf(x, loc=mu, scale=sigma)\n",
    "    return pdf\n",
    "\n",
    "pdf = normal_pdf(x=0, mu=1, sigma=0.5)\n",
    "print(pdf)"
   ]
  },
  {
   "cell_type": "markdown",
   "id": "e992926e-4063-4ef3-9d2c-66c4b087bbf7",
   "metadata": {},
   "source": [
    "---"
   ]
  },
  {
   "cell_type": "markdown",
   "id": "4f782fc0-b78a-4950-9b5b-874fb10f0951",
   "metadata": {},
   "source": [
    "### 4. What are the properties of Binomial distribution? Give two examples of events where binomial distribution can be applied.\n"
   ]
  },
  {
   "cell_type": "markdown",
   "id": "345542d7-e5f0-46d4-86f3-e29442ef8f25",
   "metadata": {},
   "source": [
    "The binomial distribution has several properties, including:\n",
    "\n",
    "1.The binomial distribution is a discrete probability distribution, which means that it describes the probability of a set of discrete outcomes.\n",
    "\n",
    "2.The binomial distribution is characterized by two parameters: n (the number of trials) and p (the probability of success on each trial).\n",
    "\n",
    "3.The probability of k successes in n trials is given by the binomial probability mass function: P(X=k) = (n choose k) * p^k * (1-p)^(n-k), where (n choose k) is the binomial coefficient.\n",
    "\n",
    "4.The mean of the binomial distribution is given by E(X) = np, and the variance is given by Var(X) = np(1-p).\n",
    "\n",
    "5.The binomial distribution is symmetric if p=0.5, and skewed if p is closer to 0 or 1.\n",
    "\n",
    "Examples of events where the binomial distribution can be applied include:\n",
    "\n",
    "1.Flipping a coin: Suppose you flip a fair coin (with probability of heads = p=0.5) 10 times. The number of heads you get in those 10 flips follows a binomial distribution with n=10 and p=0.5.\n",
    "\n",
    "2.Manufacturing defects: A factory produces a batch of 5000 widgets, and the probability of a widget being defective is p=0.02. The number of defective widgets in the batch follows a binomial distribution with n=5000 and p=0.02."
   ]
  },
  {
   "cell_type": "markdown",
   "id": "f5d5398d-4552-468f-a401-d56f846c41b4",
   "metadata": {},
   "source": [
    "---"
   ]
  },
  {
   "cell_type": "markdown",
   "id": "6226ef85-3768-4c76-b551-c0d0b628327e",
   "metadata": {},
   "source": [
    "### 5. Generate a random sample of size 1000 from a binomial distribution with probability of success 0.4 and plot a histogram of the results using matplotlib.\n"
   ]
  },
  {
   "cell_type": "code",
   "execution_count": 4,
   "id": "69abdeed-04ae-42a4-b6ff-ef12e60bb1e5",
   "metadata": {
    "tags": []
   },
   "outputs": [
    {
     "data": {
      "image/png": "[encoded data removed]",
      "text/plain": [
       "<Figure size 640x480 with 1 Axes>"
      ]
     },
     "metadata": {},
     "output_type": "display_data"
    }
   ],
   "source": [
    "import numpy as np\n",
    "import matplotlib.pyplot as plt\n",
    "\n",
    "n = 1000\n",
    "p = 0.4\n",
    "\n",
    "sample = np.random.binomial(n, p, size=1000)\n",
    "plt.hist(sample, bins=20)\n",
    "plt.xlabel('Number of successes')\n",
    "plt.ylabel('Frequency')\n",
    "plt.title('Binomial distribution with n=1000, p=0.4')\n",
    "plt.show()"
   ]
  },
  {
   "cell_type": "markdown",
   "id": "ac5d5c85-1263-431d-a3c2-2666c0552aec",
   "metadata": {},
   "source": [
    "---"
   ]
  },
  {
   "cell_type": "markdown",
   "id": "085303ef-fbcf-4c6f-aaf5-1dc8caf36629",
   "metadata": {},
   "source": [
    "### 6. Write a Python function to calculate the cumulative distribution function of a Poisson distribution with given mean at a given point.\n"
   ]
  },
  {
   "cell_type": "code",
   "execution_count": 6,
   "id": "72a5026d-2760-47d5-be1d-09983862e5ea",
   "metadata": {
    "tags": []
   },
   "outputs": [
    {
     "name": "stdout",
     "output_type": "stream",
     "text": [
      "P(X <= 2 | mu = 3.5) = 0.3208\n"
     ]
    }
   ],
   "source": [
    "import math\n",
    "\n",
    "def poisson_cdf(mu, k):\n",
    "    cdf = 0.0\n",
    "    for i in range(k + 1):\n",
    "        cdf += (mu ** i) * math.exp(-mu) / math.factorial(i)\n",
    "    return cdf\n",
    "\n",
    "mu = 3.5\n",
    "k = 2\n",
    "cdf = poisson_cdf(mu, k)\n",
    "print(\"P(X <= {} | mu = {}) = {:.4f}\".format(k, mu, cdf))"
   ]
  },
  {
   "cell_type": "markdown",
   "id": "91908757-94e4-42e4-9eca-5aa4f065b544",
   "metadata": {},
   "source": [
    "---"
   ]
  },
  {
   "cell_type": "markdown",
   "id": "6a321af7-f790-4e7c-8b2e-0287d9e61ea7",
   "metadata": {},
   "source": [
    "### 7. How Binomial distribution different from Poisson distribution?"
   ]
  },
  {
   "cell_type": "markdown",
   "id": "7b9ae69b-7c62-48c8-8f91-5b110149a342",
   "metadata": {},
   "source": [
    "\n",
    "Binomial distribution and Poisson distribution are both probability distributions that are commonly used in statistics and probability theory, but they are different in several ways:\n",
    "\n",
    "Definition and application: The binomial distribution is used to model the number of successes in a fixed number of independent trials, where each trial has only two possible outcomes (success or failure) with a fixed probability of success. The Poisson distribution, on the other hand, is used to model the number of events occurring in a fixed time or space interval, where the events occur randomly and independently with a fixed average rate.\n",
    "\n",
    "Number of possible outcomes: In the binomial distribution, there are a fixed number of trials with only two possible outcomes for each trial. In the Poisson distribution, the number of possible outcomes is infinite, as the number of events that can occur in a given time or space interval is not limited.\n",
    "\n",
    "Parameters: The binomial distribution has two parameters: the number of trials n and the probability of success p. The Poisson distribution has one parameter: the average rate of occurrence λ.\n",
    "\n",
    "Probability mass function: The probability mass function (PMF) of the binomial distribution is given by:\n",
    "\n",
    "P(X=k) = (n choose k) * p^k * (1-p)^(n-k)\n",
    "\n",
    "where X is the random variable representing the number of successes, k is the number of successes, n is the total number of trials, p is the probability of success in each trial, and (n choose k) is the binomial coefficient. The PMF of the Poisson distribution is given by:\n",
    "\n",
    "P(X=k) = (λ^k / k!) * e^(-λ)\n",
    "\n",
    "where X is the random variable representing the number of events, k is the number of events, λ is the average rate of occurrence, e is the mathematical constant approximately equal to 2.71828, and k! is the factorial of k.\n",
    "\n",
    "Assumptions: The binomial distribution assumes that the trials are independent, and that the probability of success is constant for all trials. The Poisson distribution assumes that the events occur randomly and independently, and that the rate of occurrence is constant over time or space."
   ]
  },
  {
   "cell_type": "markdown",
   "id": "a9ca156d-b4f6-4016-955f-7b8a37a5a2b1",
   "metadata": {},
   "source": [
    "---"
   ]
  },
  {
   "cell_type": "markdown",
   "id": "ae9d25de-6ebc-477d-b88b-4b71e770ee78",
   "metadata": {},
   "source": [
    "### 8. Generate a random sample of size 1000 from a Poisson distribution with mean 5 and calculate the sample mean and variance."
   ]
  },
  {
   "cell_type": "code",
   "execution_count": 7,
   "id": "2d17a3ed-fede-4f70-b229-6e3e034da6a7",
   "metadata": {
    "tags": []
   },
   "outputs": [
    {
     "name": "stdout",
     "output_type": "stream",
     "text": [
      "Sample Mean: 4.93\n",
      "Sample Variance: 5.04\n"
     ]
    }
   ],
   "source": [
    "import numpy as np\n",
    "\n",
    "sample = np.random.poisson(5, 1000)\n",
    "\n",
    "sample_mean = np.mean(sample)\n",
    "sample_var = np.var(sample)\n",
    "\n",
    "\n",
    "print(\"Sample Mean: {:.2f}\".format(sample_mean))\n",
    "print(\"Sample Variance: {:.2f}\".format(sample_var))"
   ]
  },
  {
   "cell_type": "markdown",
   "id": "677e7f46-5915-4057-8071-35e6ab85d836",
   "metadata": {},
   "source": []
  },
  {
   "cell_type": "markdown",
   "id": "60744ddf-7bea-443d-8b50-f50ce52be655",
   "metadata": {},
   "source": [
    "### 9. How mean and variance are related in Binomial distribution and Poisson distribution?"
   ]
  },
  {
   "cell_type": "markdown",
   "id": "e993a38c-41c8-481e-95c8-9b74a64de5a3",
   "metadata": {},
   "source": [
    "\n",
    "In both Binomial distribution and Poisson distribution, the mean and variance are related, but the relationship is different for each distribution.\n",
    "\n",
    "For a Binomial distribution with parameters n and p, the mean and variance are:\n",
    "\n",
    "Mean: mu = n * p\n",
    "\n",
    "Variance: sigma^2 = n * p * (1 - p)\n",
    "\n",
    "Here, the mean is directly proportional to the number of trials n and the probability of success p, while the variance is proportional to both n and p, as well as the probability of failure 1-p.\n",
    "\n",
    "For a Poisson distribution with parameter lambda, the mean and variance are:\n",
    "\n",
    "Mean: mu = lambda\n",
    "\n",
    "Variance: sigma^2 = lambda\n",
    "\n",
    "Here, both the mean and variance are equal to the parameter lambda, which represents the average rate of occurrence of events. This means that the variance of the Poisson distribution is always equal to its mean, regardless of the value of lambda."
   ]
  },
  {
   "cell_type": "markdown",
   "id": "5885c660-2367-4d90-9db7-b815f3cf5952",
   "metadata": {},
   "source": [
    "---"
   ]
  },
  {
   "cell_type": "markdown",
   "id": "3f3e9d56-96d7-4271-b420-a2d51bc6e1b9",
   "metadata": {},
   "source": [
    "### 10. In normal distribution with respect to mean position, where does the least frequent data appear?"
   ]
  },
  {
   "cell_type": "markdown",
   "id": "ebda05de-853d-4046-be3f-aef785ac1c91",
   "metadata": {},
   "source": [
    "\n",
    "In a normal distribution, the least frequent data appears at the two tails of the distribution, farthest away from the mean. This is because the normal distribution is symmetric around the mean, and as you move farther away from the mean in either direction, the density of the distribution decreases rapidly.\n",
    "\n",
    "More specifically, the least frequent data appears at the values that are more than 2 standard deviations away from the mean in either direction. In a standard normal distribution (with a mean of 0 and a standard deviation of 1), these values are -2 and 2.\n",
    "\n",
    "For example, if a normal distribution has a mean of 50 and a standard deviation of 10, then the least frequent data would appear at the values less than 30 or greater than 70. These extreme values represent the tails of the distribution, where the density of the distribution is very low."
   ]
  },
  {
   "cell_type": "code",
   "execution_count": null,
   "id": "878dddbd-a22b-4bf7-8897-c86441350d79",
   "metadata": {},
   "outputs": [],
   "source": []
  }
 ],
 "metadata": {
  "kernelspec": {
   "display_name": "Python 3 (ipykernel)",
   "language": "python",
   "name": "python3"
  },
  "language_info": {
   "codemirror_mode": {
    "name": "ipython",
    "version": 3
   },
   "file_extension": ".py",
   "mimetype": "text/x-python",
   "name": "python",
   "nbconvert_exporter": "python",
   "pygments_lexer": "ipython3",
   "version": "3.11.1"
  }
 },
 "nbformat": 4,
 "nbformat_minor": 5
}
