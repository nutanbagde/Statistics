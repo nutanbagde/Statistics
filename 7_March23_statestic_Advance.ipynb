{
 "cells": [
  {
   "cell_type": "markdown",
   "id": "62354ef1-3981-4da1-9b63-d2c3187856af",
   "metadata": {},
   "source": [
    "### Q1. What are the three measures of central tendency? "
   ]
  },
  {
   "cell_type": "markdown",
   "id": "75df31ae-d9f6-4fa1-af25-1b812573eb2d",
   "metadata": {},
   "source": [
    "The three measures of central tendency are:\n",
    "\n",
    "__1.Mean:__ The arithmetic mean is the most commonly used measure of central tendency. It is calculated by adding up all the values in a set of data and then dividing by the number of values. The mean is sensitive to outliers, meaning that extreme values can significantly affect the value of the mean.\n",
    "\n",
    "__2.Median:__ The median is the middle value in a set of data when the values are arranged in order. If there is an even number of values, the median is the average of the two middle values. The median is less sensitive to outliers than the mean and is often used when there are extreme values in the data.\n",
    "\n",
    "__3.Mode:__ The mode is the value that occurs most frequently in a set of data. There can be more than one mode or no mode at all. The mode is often used with categorical or nominal data where values cannot be added or averaged."
   ]
  },
  {
   "cell_type": "markdown",
   "id": "24acc8cc-9159-4771-bab2-fc9183d3d1fa",
   "metadata": {},
   "source": [
    "---"
   ]
  },
  {
   "cell_type": "markdown",
   "id": "f6eda0ed-bedb-4ff5-b187-bdaff864aa6a",
   "metadata": {},
   "source": [
    "### Q2. What is the difference between the mean, median, and mode? How are they used to measure the  central tendency of a dataset? "
   ]
  },
  {
   "cell_type": "markdown",
   "id": "32a5b1aa-70c8-4d60-ae3a-607840a777b6",
   "metadata": {},
   "source": [
    "The mean, median, and mode are all measures of central tendency, but they differ in how they represent the center of a dataset.\n",
    "\n",
    "The mean is calculated by adding up all the values in a dataset and dividing by the number of values. It represents the average value of the dataset and is the most commonly used measure of central tendency. The mean is sensitive to extreme values, or outliers, which can greatly affect its value.\n",
    "\n",
    "The median is the middle value in a dataset when the values are arranged in order. It represents the value that splits the dataset into two equal halves. The median is less sensitive to outliers than the mean and is often used when the dataset has extreme values.\n",
    "\n",
    "The mode is the value that appears most frequently in a dataset. It represents the most common value or values in the dataset. The mode is often used with categorical or nominal data where values cannot be added or averaged.\n",
    "\n",
    "To choose the most appropriate measure of central tendency for a dataset, we need to consider the type of data, the distribution of the data, and the presence of outliers. If the data is normally distributed with no outliers, the mean is the most appropriate measure. If the data is skewed or has outliers, the median may be a better representation of the center of the dataset. If the data is categorical, the mode is the most appropriate measure"
   ]
  },
  {
   "cell_type": "markdown",
   "id": "572311de-a301-43cd-b825-8f770f46319a",
   "metadata": {},
   "source": [
    "---"
   ]
  },
  {
   "cell_type": "markdown",
   "id": "10fe73a6-732e-48a5-8e21-285eceb855f5",
   "metadata": {},
   "source": [
    "### Q3. Measure the three measures of central tendency for the given height data:  [178,177,176,177,178.2,178,175,179,180,175,178.9,176.2,177,172.5,178,176.5] \n"
   ]
  },
  {
   "cell_type": "code",
   "execution_count": 3,
   "id": "ee843188-b0a1-4a16-8dd2-db6c262abb1b",
   "metadata": {
    "tags": []
   },
   "outputs": [
    {
     "name": "stdout",
     "output_type": "stream",
     "text": [
      "177.01875\n",
      "177.0\n",
      "ModeResult(mode=177.0, count=3)\n"
     ]
    }
   ],
   "source": [
    "import numpy as np\n",
    "from scipy import stats\n",
    "\n",
    "height= [178,177,176,177,178.2,178,175,179,180,175,178.9,176.2,177,172.5,178,176.5]\n",
    "#Mean\n",
    "mean=np.mean(height)\n",
    "print(mean)\n",
    "\n",
    "#Median\n",
    "median=np.median(height)\n",
    "print(median)\n",
    "\n",
    "#Mode\n",
    "mode=stats.mode(height)\n",
    "print(mode)"
   ]
  },
  {
   "cell_type": "markdown",
   "id": "cbcfa36d-2d67-4069-8394-5ea63fd8e07c",
   "metadata": {},
   "source": [
    "---"
   ]
  },
  {
   "cell_type": "markdown",
   "id": "07368e8a-5291-49cf-8823-a8a6b8de3ccc",
   "metadata": {},
   "source": [
    "### Q4. Find the standard deviation for the given data: \n",
    "[178,177,176,177,178.2,178,175,179,180,175,178.9,176.2,177,172.5,178,176.5] \n",
    " "
   ]
  },
  {
   "cell_type": "code",
   "execution_count": 4,
   "id": "bc6bf33f-42b7-4ccb-a407-0aad502033eb",
   "metadata": {
    "tags": []
   },
   "outputs": [
    {
     "data": {
      "text/plain": [
       "1.7885814036548633"
      ]
     },
     "execution_count": 4,
     "metadata": {},
     "output_type": "execute_result"
    }
   ],
   "source": [
    "import numpy as np\n",
    "data = [178,177,176,177,178.2,178,175,179,180,175,178.9,176.2,177,172.5,178,176.5]\n",
    "np.std(data)"
   ]
  },
  {
   "cell_type": "markdown",
   "id": "d0fd9e66-050d-47ba-a6df-058860689d39",
   "metadata": {},
   "source": [
    "---"
   ]
  },
  {
   "cell_type": "markdown",
   "id": "e1f186e4-dae6-4cd4-ba21-d24ae62d5f5f",
   "metadata": {},
   "source": [
    "### Q5. How are measures of dispersion such as range, variance, and standard deviation used to describe  the spread of a dataset? Provide an example. \n"
   ]
  },
  {
   "cell_type": "markdown",
   "id": "19373edf-ee10-4029-bd07-dd5d9c8ee0bf",
   "metadata": {},
   "source": [
    "Measures of dispersion, such as range, variance, and standard deviation, are used to describe the spread or variability of a dataset.\n",
    "\n",
    "The range is the difference between the highest and lowest values in a dataset. It gives a rough idea of the spread of the data, but it can be affected by outliers.\n",
    "\n",
    "The variance is the average of the squared differences between each value and the mean of the dataset. It measures how far the data is spread out from the mean. The variance can be influenced by extreme values and is expressed in squared units.\n",
    "\n",
    "The standard deviation is the square root of the variance. It is a more commonly used measure of dispersion than variance, as it is expressed in the same units as the original data. The standard deviation indicates how far the data is spread out from the mean and is less sensitive to outliers than the variance.\n",
    "\n",
    "For example, consider the following dataset of test scores: 75, 80, 85, 90, 95.\n",
    "\n",
    "The mean of this dataset is (75+80+85+90+95)/5 = 85.\n",
    "\n",
    "The range of the dataset is 95 - 75 = 20.\n",
    "\n",
    "The variance of the dataset is ((75-85)^2 + (80-85)^2 + (85-85)^2 + (90-85)^2 + (95-85)^2)/5 = 100/5 = 20.\n",
    "\n",
    "The standard deviation of the dataset is the square root of the variance, which is √20 = 4.47.\n",
    "\n",
    "The range suggests that the scores are somewhat spread out, but it doesn't give a precise measure of how spread out they are. The variance and standard deviation provide a more precise measure of the spread of the scores, indicating that they are spread out by approximately 4.47 points on average from the mean of 85."
   ]
  },
  {
   "cell_type": "markdown",
   "id": "b6dd9582-5a37-4bd7-90e1-d6b7818fc673",
   "metadata": {},
   "source": [
    "---"
   ]
  },
  {
   "cell_type": "markdown",
   "id": "3f08ea94-82cf-404d-90e9-328afc256c7f",
   "metadata": {},
   "source": [
    "### Q6. What is a Venn diagram? \n"
   ]
  },
  {
   "cell_type": "markdown",
   "id": "ae50a09a-8f00-4a24-94da-fd3e70c114b0",
   "metadata": {},
   "source": [
    "A Venn diagram is a visual representation of the relationships between different sets of items or concepts. It consists of overlapping circles or other shapes, where each circle represents a set and the overlap between circles represents the intersection of those sets. The areas outside the circles represent the items or concepts that are not part of any of the sets.\n",
    "\n",
    "Venn diagrams can be used to illustrate relationships between different groups, such as the overlap between different demographic groups, or the similarities and differences between different types of animals or plants. They can also be used to solve problems related to sets and their intersections, such as calculating the probability of two events occurring simultaneously. Venn diagrams are a popular tool in mathematics, logic, and statistics."
   ]
  },
  {
   "cell_type": "markdown",
   "id": "6716f53c-475a-4f83-aa36-cd9b4842f968",
   "metadata": {},
   "source": [
    "---"
   ]
  },
  {
   "cell_type": "markdown",
   "id": "0e74144e-72e6-4505-9aa5-bc698f4c7608",
   "metadata": {},
   "source": [
    "### Q7. For the two given sets A = (2,3,4,5,6,7) & B = (0,2,6,8,10). Find: \n",
    "(i)  A B \n",
    "(ii) A ⋃ B \n"
   ]
  },
  {
   "cell_type": "code",
   "execution_count": 5,
   "id": "ec88295f-01a7-4b70-a018-d609b780c30c",
   "metadata": {
    "tags": []
   },
   "outputs": [
    {
     "name": "stdout",
     "output_type": "stream",
     "text": [
      "{0, 2, 3, 4, 5, 6, 7, 8, 10}\n",
      "{2, 6}\n"
     ]
    }
   ],
   "source": [
    "A = {2,3,4,5,6,7}\n",
    "B = {0,2,6,8,10}\n",
    "\n",
    "union= A.union(B)\n",
    "print(union)\n",
    "\n",
    "intersection = A.intersection(B)\n",
    "print(intersection)"
   ]
  },
  {
   "cell_type": "markdown",
   "id": "8e4c6205-64b4-4839-83b8-a23fb1811eb3",
   "metadata": {},
   "source": [
    "---"
   ]
  },
  {
   "cell_type": "markdown",
   "id": "ac2f7a9e-893b-4ff1-885b-759b393f90e6",
   "metadata": {},
   "source": [
    "### Q8. What do you understand about skewness in data? \n"
   ]
  },
  {
   "cell_type": "markdown",
   "id": "bdcffc3f-cbee-4de5-8149-2e7d90408fd8",
   "metadata": {},
   "source": [
    "Skewness is a measure of the degree of asymmetry of a probability distribution. In other words, it measures how lopsided a distribution is.\n",
    "\n",
    "A distribution can be positively skewed, negatively skewed, or have no skewness (i.e., be symmetric).\n",
    "\n",
    "A distribution is positively skewed if it has a long tail on the right-hand side of the distribution, meaning that the right side of the distribution extends farther out than the left side. In this case, the mean of the distribution will be greater than the median, and the mode (the most common value) will be less than the median.\n",
    "\n",
    "A distribution is negatively skewed if it has a long tail on the left-hand side of the distribution, meaning that the left side of the distribution extends farther out than the right side. In this case, the mean of the distribution will be less than the median, and the mode will be greater than the median.\n",
    "\n",
    "A distribution has no skewness (i.e., is symmetric) if it is evenly distributed around its mean, with no long tails on either side."
   ]
  },
  {
   "cell_type": "markdown",
   "id": "dc14255f-e320-404c-a61b-fa516e7a303a",
   "metadata": {},
   "source": [
    "---"
   ]
  },
  {
   "cell_type": "markdown",
   "id": "ff4c1320-6bc8-4db5-ba17-aff9783cda72",
   "metadata": {},
   "source": [
    "### Q9. If a data is right skewed then what will be the position of median with respect to mean? \n"
   ]
  },
  {
   "cell_type": "markdown",
   "id": "6d53fa0b-1658-4227-8b54-42b9b19f393f",
   "metadata": {},
   "source": [
    "If a data is right skewed, the median will be less than the mean. This is because the mean is pulled towards the long tail on the right-hand side of the distribution, which makes it greater than the median. In a right-skewed distribution, there are typically a few very high values on the right-hand side of the distribution that can have a large impact on the mean. However, the median is not affected by extreme values in the same way, so it provides a better measure of central tendency for skewed datasets. Therefore, in a right-skewed distribution, the median is typically a more representative measure of central tendency than the mean."
   ]
  },
  {
   "cell_type": "markdown",
   "id": "24726051-2272-489a-ac34-9481a6f51e78",
   "metadata": {},
   "source": [
    "----"
   ]
  },
  {
   "cell_type": "markdown",
   "id": "53e07841-85bf-4d48-a845-c58f843da46d",
   "metadata": {},
   "source": [
    "### Q10. Explain the difference between covariance and correlation. How are these measures used in  statistical analysis? \n"
   ]
  },
  {
   "cell_type": "markdown",
   "id": "5f1eadad-6e24-495e-880b-1e7741ec5fa3",
   "metadata": {},
   "source": [
    "Covariance and correlation are both measures of the relationship between two variables, but they differ in their interpretation and scale.\n",
    "\n",
    "Covariance measures the extent to which two variables vary together. It is a measure of the joint variability of two variables, and it can take on positive or negative values. A positive covariance indicates that the two variables tend to increase or decrease together, while a negative covariance indicates that the two variables tend to move in opposite directions. However, the magnitude of covariance is not standardized, which means it can be difficult to compare covariances across different datasets or variable scales.\n",
    "\n",
    "Correlation, on the other hand, measures the strength and direction of the linear relationship between two variables. It is a standardized measure that ranges from -1 to +1, with 0 indicating no linear relationship, -1 indicating a perfect negative linear relationship, and +1 indicating a perfect positive linear relationship. Correlation is useful because it is not affected by differences in the scales of the two variables, and it provides a standardized measure of the strength and direction of the relationship."
   ]
  },
  {
   "cell_type": "markdown",
   "id": "a58676e2-aa5f-4c25-9797-6bfaba2cb001",
   "metadata": {
    "tags": []
   },
   "source": [
    "---"
   ]
  },
  {
   "cell_type": "markdown",
   "id": "594dd738-eb42-4370-b45e-b0be0b9cbfdf",
   "metadata": {},
   "source": [
    "### Q11. What is the formula for calculating the sample mean? Provide an example calculation for a  dataset. "
   ]
  },
  {
   "cell_type": "markdown",
   "id": "66e630f7-3dd7-4909-a25a-643c3d51c6b6",
   "metadata": {},
   "source": [
    "The sample mean is a measure of central tendency that represents the average value of a dataset. It is calculated by summing all the values in the dataset and dividing by the number of observations. The formula for calculating the sample mean is as follows:\n",
    "\n",
    "Sample Mean = (sum of all values) / (number of observations)\n",
    "\n",
    "Here is an example calculation of the sample mean for a dataset:\n",
    "\n",
    "Suppose we have the following dataset:\n",
    "\n",
    "4, 8, 2, 6, 9, 1, 5, 3\n",
    "\n",
    "To calculate the sample mean, we first add up all the values in the dataset:\n",
    "\n",
    "4 + 8 + 2 + 6 + 9 + 1 + 5 + 3 = 38\n",
    "\n",
    "Next, we divide the sum by the number of observations (which in this case is 8):\n",
    "\n",
    "Sample Mean = 38 / 8 = 4.75\n",
    "\n",
    "Therefore, the sample mean of this dataset is 4.75"
   ]
  },
  {
   "cell_type": "markdown",
   "id": "87205699-8eb3-487c-a8b9-369f69c00e63",
   "metadata": {},
   "source": [
    "---"
   ]
  },
  {
   "cell_type": "markdown",
   "id": "5056c054-59f2-40b4-9006-811e101e7c1d",
   "metadata": {},
   "source": [
    "### Q12. For a normal distribution data what is the relationship between its measure of central tendency?\n"
   ]
  },
  {
   "cell_type": "markdown",
   "id": "15c7f633-198d-4c04-b843-b9513d6096a1",
   "metadata": {},
   "source": [
    "For a normal distribution data, the measures of central tendency (i.e., mean, median, and mode) are equal to each other. This is because a normal distribution is symmetric around its mean, so the median and mode are also located at the same point as the mean.\n",
    "\n",
    "In other words, the mean, median, and mode are all located at the peak of the normal distribution, and they are all equal to each other. This property of the normal distribution makes it easier to describe and analyze the data, as we can use any of the measures of central tendency to summarize the distribution."
   ]
  },
  {
   "cell_type": "markdown",
   "id": "15418a14-6da3-42bd-aca6-f5accbd4f981",
   "metadata": {},
   "source": [
    "---"
   ]
  },
  {
   "cell_type": "markdown",
   "id": "95f07f85-37c6-4299-8379-e388cf26409a",
   "metadata": {},
   "source": [
    "### Q13. How is covariance different from correlation? \n"
   ]
  },
  {
   "cell_type": "markdown",
   "id": "7be534b2-158c-4254-b999-b14e74d853ce",
   "metadata": {},
   "source": [
    "Covariance and correlation are both measures of the relationship between two variables, but they have some important differences.\n",
    "\n",
    "Covariance measures the degree to which two variables vary together. Specifically, covariance measures the expected value of the product of the deviations of two variables from their respective means. A positive covariance indicates that when one variable is above its mean, the other variable tends to be above its mean as well, while a negative covariance indicates that when one variable is above its mean, the other variable tends to be below its mean. However, the magnitude of the covariance depends on the units of the variables, which can make it difficult to compare covariances across different datasets.\n",
    "\n",
    "Correlation, on the other hand, is a standardized measure of the relationship between two variables that ranges from -1 to 1. Correlation is calculated by dividing the covariance of the two variables by the product of their standard deviations. Because correlation is standardized, it is not affected by differences in the units of the variables, making it easier to compare across datasets. A correlation of 1 indicates a perfect positive relationship between the variables, a correlation of -1 indicates a perfect negative relationship, and a correlation of 0 indicates no relationship."
   ]
  },
  {
   "cell_type": "markdown",
   "id": "a4fe94d3-65eb-454e-8af1-3a5ed4c90af5",
   "metadata": {},
   "source": [
    "---"
   ]
  },
  {
   "cell_type": "markdown",
   "id": "030c0af5-5db9-4957-9976-e497c5e50711",
   "metadata": {},
   "source": [
    "### Q14. How do outliers affect measures of central tendency and dispersion? Provide an example."
   ]
  },
  {
   "cell_type": "markdown",
   "id": "8c6f32c6-45c6-47ff-8952-5092343b198c",
   "metadata": {},
   "source": [
    "Outliers can have a significant impact on measures of central tendency and dispersion. Central tendency refers to the center of a distribution, while dispersion refers to the spread or variability of the data. Outliers are values that are significantly different from the rest of the data and can skew the measures of central tendency and dispersion in different ways.\n",
    "\n",
    "For example, consider a dataset of exam scores:\n",
    "\n",
    "Exam Score Frequency\n",
    "\n",
    "80 3\n",
    "\n",
    "85 7\n",
    "\n",
    "90 12\n",
    "\n",
    "95 5\n",
    "\n",
    "100 3\n",
    "\n",
    "The mean score for this dataset is 90.5, the median score is 90, and the mode is 90. However, if there is an outlier score of 50, the mean will decrease to 82.83, while the median and mode will remain at 90. This is because the mean is sensitive to extreme values, while the median and mode are not. In this case, the outlier score of 50 significantly affects the measure of central tendency.\n",
    "\n",
    "Similarly, outliers can affect measures of dispersion, such as the range and standard deviation. The range is the difference between the highest and lowest values in a dataset, while the standard deviation measures the average distance of each data point from the mean. If there is an outlier with a very high or low value, the range will be increased, while the standard deviation will also be increased because the data points are more spread out from the mean."
   ]
  },
  {
   "cell_type": "markdown",
   "id": "63d3cebe-6586-45f1-ad85-4570e99cf4cf",
   "metadata": {},
   "source": [
    "---"
   ]
  },
  {
   "cell_type": "code",
   "execution_count": null,
   "id": "fb6ba943-6b84-43e1-8fe7-f2e458006fba",
   "metadata": {},
   "outputs": [],
   "source": []
  }
 ],
 "metadata": {
  "kernelspec": {
   "display_name": "Python 3 (ipykernel)",
   "language": "python",
   "name": "python3"
  },
  "language_info": {
   "codemirror_mode": {
    "name": "ipython",
    "version": 3
   },
   "file_extension": ".py",
   "mimetype": "text/x-python",
   "name": "python",
   "nbconvert_exporter": "python",
   "pygments_lexer": "ipython3",
   "version": "3.11.1"
  }
 },
 "nbformat": 4,
 "nbformat_minor": 5
}
