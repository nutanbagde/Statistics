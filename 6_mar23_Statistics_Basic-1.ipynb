{
 "cells": [
  {
   "cell_type": "markdown",
   "id": "9504ef41-5e60-48e3-9639-9f2105ba238c",
   "metadata": {},
   "source": [
    "### Q1. What is Statistics?"
   ]
  },
  {
   "cell_type": "markdown",
   "id": "9f80f98a-782b-41a1-9a33-286168f3d2ec",
   "metadata": {},
   "source": [
    "Statistics is the study of the collection, analysis, interpretation, presentation, and organization of data."
   ]
  },
  {
   "cell_type": "markdown",
   "id": "2ebd9320-2c80-4ba3-a149-cbd220334c30",
   "metadata": {},
   "source": [
    "---"
   ]
  },
  {
   "cell_type": "markdown",
   "id": "c705fa88-37b6-4abf-b5a1-5c6e4e6780ca",
   "metadata": {},
   "source": [
    "### Q2. Define the different types of statistics and give an example of when each type might be used."
   ]
  },
  {
   "cell_type": "markdown",
   "id": "97626895-14bf-4e69-ae75-8f08ecae6eff",
   "metadata": {},
   "source": [
    "There are two main types of statistics: __descriptive statistics and inferential statistics.\n",
    "\n",
    "__1.Descriptive Statistics :-__ Descriptive statistics involves the collection, analysis, and presentation of data in a way that describes and summarizes the main features of a dataset. It is used to provide a summary of a dataset, and it includes measures such as measures of central tendency (mean, median, mode), measures of variability (standard deviation, variance), and graphical displays (histograms, box plots).\n",
    "\n",
    "__Example:__ A survey conducted to determine the average salary of employees in a company. The survey may include a calculation of the mean, median, and mode salaries, as well as measures of variability such as the standard deviation or variance.\n",
    "\n",
    "__2.Inferential Statistics :-__ Inferential statistics involves using a sample of data to make inferences about a larger population. It involves estimating population parameters based on sample statistics and testing hypotheses about the relationship between variables. Inferential statistics helps to make predictions about future events based on the data analysis.\n",
    "\n",
    "__Example:__ A company wants to determine whether a new product is likely to be successful or not. A sample of potential customers could be selected and asked to try the product. The data collected could then be analyzed using inferential statistics to make predictions about the likely success of the product when it is launched to a larger population."
   ]
  },
  {
   "cell_type": "markdown",
   "id": "aa042252-162a-4a9f-ad21-12c9d240d4ae",
   "metadata": {
    "tags": []
   },
   "source": [
    "---"
   ]
  },
  {
   "cell_type": "markdown",
   "id": "2ee3fddc-1057-4786-bff8-479b721fc034",
   "metadata": {},
   "source": [
    "### Q3. What are the different types of data and how do they differ from each other? Provide an example of each type of data.\n",
    "\n"
   ]
  },
  {
   "cell_type": "markdown",
   "id": "d3817d18-4e45-4470-8b58-d12e14ba0c69",
   "metadata": {},
   "source": [
    "There are four main types of data: nominal, ordinal, interval, and ratio. The main differences between these types of data are the level of measurement, the order of the values, and the mathematical operations that can be performed on the data.\n",
    "\n",
    "__1.Nominal Scale Data:__ Nominal data is the simplest type of data, and it consists of categories or names that cannot be ordered. Nominal data only provides information about the identity of something, not the magnitude or direction of the difference between categories.\n",
    "\n",
    "__Example:__ The colors of cars in a parking lot (red, blue, green, etc.) are nominal data.\n",
    "\n",
    "__2.Ordinal Scale Data:__ Ordinal data consists of values that can be ordered or ranked, but the differences between the values are not necessarily equal. Ordinal data provides information about the direction of the difference between values, but not the magnitude of the difference.\n",
    "\n",
    "__Example:__ A customer satisfaction survey that asks respondents to rate their experience as \"poor,\" \"fair,\" \"good,\" or \"excellent\" is an example of ordinal data.\n",
    "\n",
    "__3.Interval Scale Data:__ Interval data consists of values that can be ordered and the differences between the values are equal. However, there is no meaningful zero point. This means that it is not possible to say that one value is \"twice\" or \"three times\" as much as another value.\n",
    "\n",
    "__Example:__ Temperature measured in Celsius or Fahrenheit is an example of interval data.\n",
    "\n",
    "__4.Ratio Scale Data:__ Ratio data is the most informative type of data, as it has a meaningful zero point, and it is possible to say that one value is \"twice\" or \"three times\" as much as another value. Ratio data is often used in scientific research and engineering.\n",
    "\n",
    "__Example:__ The height or weight of an individual is an example of ratio data."
   ]
  },
  {
   "cell_type": "markdown",
   "id": "90777463-a4fb-4370-9245-7bf2fe1f93d1",
   "metadata": {},
   "source": [
    "---"
   ]
  },
  {
   "cell_type": "markdown",
   "id": "ac0bed9e-d6cf-4aea-818f-a101efd4cb5b",
   "metadata": {},
   "source": [
    "### Q4. Categorise the following datasets with respect to quantitative and qualitative data types:\n"
   ]
  },
  {
   "cell_type": "markdown",
   "id": "af95867f-bdb2-41d5-815a-dcedbffd964f",
   "metadata": {},
   "source": [
    "(i) Grading in exam: A+, A, B+, B, C+, C, D, E\n",
    "__Ans:- qualitative (nominal)__"
   ]
  },
  {
   "cell_type": "markdown",
   "id": "71e262ca-6ccb-419c-9ad4-47e03ff98c69",
   "metadata": {},
   "source": [
    "(ii) Colour of mangoes: yellow, green, orange, red\n",
    "__Ans :- qualitative (Nominal)__"
   ]
  },
  {
   "cell_type": "markdown",
   "id": "707e0c74-3a0a-4627-978d-4c24d5604040",
   "metadata": {},
   "source": [
    "(iii) Height data of a class: [178.9, 179, 179.5, 176, 177.2, 178.3, 175.8,...]\n",
    "__Ans:- quantitative (Continous)__"
   ]
  },
  {
   "cell_type": "markdown",
   "id": "5fd7e68a-f24d-4ff2-a06e-fc29768d3968",
   "metadata": {},
   "source": [
    "(iv) Number of mangoes exported by a farm: [500, 600, 478, 672, ...]\n",
    "__Ans:- quantitative (Discrite)__"
   ]
  },
  {
   "cell_type": "markdown",
   "id": "127ff075-b170-4416-b1e7-a6cd34ca615a",
   "metadata": {},
   "source": [
    "---"
   ]
  },
  {
   "cell_type": "markdown",
   "id": "00a6ebc3-182a-4556-b793-d32acbb035a6",
   "metadata": {},
   "source": [
    "### Q5. Explain the concept of levels of measurement and give an example of a variable for each level.\n",
    "Ans:-"
   ]
  },
  {
   "cell_type": "markdown",
   "id": "5e70e359-772a-49c1-ae86-26cadc640167",
   "metadata": {},
   "source": [
    "Levels of measurement, also known as scales of measurement, refer to the way in which variables are measured or classified. There are four levels of measurement, including nominal, ordinal, interval, and ratio.\n",
    "\n",
    "__1.Nominal level:__ This is the lowest level of measurement, where variables are classified into categories or groups. In this level, the numbers assigned to variables are arbitrary and do not carry any numerical meaning. Examples of nominal variables include gender, eye color, religion, and political affiliation.\n",
    "\n",
    "__2.Ordinal level:__ This level of measurement ranks variables in a particular order or sequence, but the differences between variables cannot be measured. The numbers assigned to variables carry relative rankings rather than actual values. Examples of ordinal variables include educational levels, socioeconomic status, and letter grades in school.\n",
    "\n",
    "__3.Interval level:__ In this level of measurement, the difference between variables is meaningful, and variables are measured on a scale with equal intervals. However, there is no true zero point, meaning that zero does not represent the complete absence of the variable. Examples of interval variables include temperature (in Celsius or Fahrenheit), IQ scores, and calendar years.\n",
    "\n",
    "__4.Ratio level:__ This is the highest level of measurement, where variables are measured on a scale with equal intervals, and a true zero point exists. This means that zero represents the complete absence of the variable. Examples of ratio variables include height, weight, income, and age."
   ]
  },
  {
   "cell_type": "markdown",
   "id": "ef9162fc-7a93-4a3e-9b34-5582c16ec88e",
   "metadata": {},
   "source": [
    "---"
   ]
  },
  {
   "cell_type": "markdown",
   "id": "12461ad1-942a-42e4-938f-ec524ac19d0b",
   "metadata": {},
   "source": [
    "### Q6. Why is it important to understand the level of measurement when analyzing data? Provide an example to illustrate your answer.\n"
   ]
  },
  {
   "cell_type": "markdown",
   "id": "9c428002-6d96-4f03-8de8-42c4f8ac2075",
   "metadata": {},
   "source": [
    "Understanding the level of measurement is crucial when analyzing data because it determines the types of statistical analyses that can be used and the appropriate interpretations that can be made from the results. The level of measurement also determines the types of graphs or charts that can be used to represent the data.\n",
    "\n",
    "There are four levels of measurement: __nominal, ordinal, interval, and ratio.__ __Nominal data__ are categorical variables with no inherent order or numerical meaning (e.g., gender, race, or eye color). __Ordinal data__ are categorical variables that have a natural order or rank (e.g., education level, income bracket, or social class). __Interval data__ have equal intervals between values but no true zero point (e.g., temperature measured in Celsius or Fahrenheit). __Ratio data__ have equal intervals between values and a true zero point (e.g., weight or height).\n",
    "\n",
    "An example to illustrate the importance of understanding the level of measurement in data analysis is with the variable \"income.\" If we only know that someone's income falls into one of three categories (e.g., low, medium, high), we only have nominal data. We can use descriptive statistics such as frequency counts, percentages, and mode to summarize the data. However, we cannot calculate a mean, median, or standard deviation because there is no meaningful numerical value assigned to the categories. We also cannot use parametric tests such as t-tests or ANOVA, which assume interval or ratio data, because the categories are not numeric values.\n",
    "\n",
    "If we have ordinal data for income (e.g., income level on a scale from 1 to 5), we can calculate the mode, median, and percentile ranks. However, we cannot assume equal intervals between the categories, so we cannot calculate a meaningful mean or standard deviation. We can use nonparametric tests such as the Kruskal-Wallis test to compare income levels across groups.\n",
    "\n",
    "If we have interval or ratio data for income (e.g., actual dollar amounts), we can calculate the mean, median, and standard deviation. We can use parametric tests such as t-tests and ANOVA to compare income levels across groups. We can also create meaningful graphs such as histograms or box plots to represent the data."
   ]
  },
  {
   "cell_type": "markdown",
   "id": "e742732b-5c82-486f-8f92-0bea6aa2307d",
   "metadata": {},
   "source": [
    "---"
   ]
  },
  {
   "cell_type": "markdown",
   "id": "676d8854-5c04-4794-9d8d-6749fd64c27d",
   "metadata": {},
   "source": [
    "### Q7. How nominal data type is different from ordinal data type.\n"
   ]
  },
  {
   "cell_type": "markdown",
   "id": "d5c515aa-08e2-4a20-96a4-e2b44f3251a6",
   "metadata": {},
   "source": [
    "Nominal data and ordinal data are both types of categorical data, but they differ in how they can be ordered or ranked.\n",
    "\n",
    "__Nominal data__ is categorical data where there is no inherent order or ranking among the categories. For example, if you ask people about their favorite color and they can choose from options like \"red,\" \"blue,\" \"green,\" or \"yellow,\" their responses would be nominal data because there is no inherent order or ranking among these colors. Nominal data can be represented using labels or categories, but these categories cannot be ordered in any meaningful way.\n",
    "\n",
    "__Ordinal data,__ on the other hand, is categorical data where there is a natural order or ranking among the categories. For example, if you ask people to rate their level of agreement with a statement on a scale of 1 to 5, their responses would be ordinal data because there is a clear order or ranking among the possible responses. The categories in ordinal data can be ordered based on some underlying characteristic or attribute"
   ]
  },
  {
   "cell_type": "markdown",
   "id": "7b6a3838-3660-4440-a7df-491ef74f7489",
   "metadata": {},
   "source": [
    "---"
   ]
  },
  {
   "cell_type": "markdown",
   "id": "5dd59a13-c9d1-47db-8b60-3c02a2fe7caf",
   "metadata": {},
   "source": [
    "### Q8. Which type of plot can be used to display data in terms of range?"
   ]
  },
  {
   "cell_type": "markdown",
   "id": "973b6117-401b-47e2-9d47-1e185c52b94b",
   "metadata": {},
   "source": [
    "A box plot, also known as a box and whisker plot, is a type of plot that can be used to display data in terms of range.\n",
    "\n",
    "Box plots are useful for visualizing the distribution of numerical data and showing the range, median, quartiles, and outliers of the data. The box in the plot represents the interquartile range (IQR), which is the range between the first quartile (25th percentile) and the third quartile (75th percentile) of the data. The whiskers extend from the box to show the minimum and maximum values within 1.5 times the IQR, and any points beyond the whiskers are considered outliers.\n",
    "\n",
    "By displaying the range of the data in this way, box plots can provide a clear visual summary of the distribution of the data and help to identify any outliers or extreme values. They are particularly useful for comparing the distributions of different groups or datasets, as multiple box plots can be displayed side-by-side on the same plot."
   ]
  },
  {
   "cell_type": "markdown",
   "id": "682558cc-ff3a-4ef3-b362-c7bcce7cf97a",
   "metadata": {},
   "source": [
    "---"
   ]
  },
  {
   "cell_type": "markdown",
   "id": "24a82669-12dc-4229-b1c1-7b9d835202b7",
   "metadata": {},
   "source": [
    "### Q9. Describe the difference between descriptive and inferential statistics. Give an example of each type of statistics and explain how they are used.\n"
   ]
  },
  {
   "cell_type": "markdown",
   "id": "0b190244-b742-4cab-a8b0-d294f2873135",
   "metadata": {},
   "source": [
    "Descriptive statistics and inferential statistics are two branches of statistical analysis that serve different purposes:\n",
    "\n",
    "__Descriptive Statistics:__ Descriptive statistics is the branch of statistics that deals with the summary and organization of data. It describes the main features of a dataset, such as measures of central tendency, variability, and shape. It provides a way to summarize and communicate the key characteristics of a dataset.\n",
    "\n",
    "For example, if we have a dataset of exam scores of a group of students, we can use descriptive statistics to calculate the mean, median, mode, and standard deviation of the scores. These statistics can provide a summary of the performance of the students and can help us to understand the distribution of the scores in the dataset.\n",
    "\n",
    "__Inferential Statistics:__ Inferential statistics is the branch of statistics that deals with making inferences or predictions about a larger population based on a sample of data. It is used to draw conclusions about a population based on data from a subset of that population.\n",
    "\n",
    "For example, if we want to know the average height of all men in a city, we can use inferential statistics by taking a random sample of men and using their heights to estimate the average height of all men in the city. We can also use inferential statistics to test hypotheses about the population parameters based on the sample data."
   ]
  },
  {
   "cell_type": "markdown",
   "id": "72e75a39-4524-4d07-b1e2-fdafaf2060b9",
   "metadata": {},
   "source": [
    "---"
   ]
  },
  {
   "cell_type": "markdown",
   "id": "3b622857-e867-4967-bd2a-c3ba8da5050c",
   "metadata": {},
   "source": [
    "### Q10. What are some common measures of central tendency and variability used in statistics? Explain how each measure can be used to describe a dataset."
   ]
  },
  {
   "cell_type": "markdown",
   "id": "d754de9c-54d8-4940-bae4-a057f65007dd",
   "metadata": {},
   "source": [
    "Measures of central tendency and variability are commonly used in statistics to summarize and describe a dataset. Here are some of the most common measures and how they can be used:\n",
    "\n",
    "__1.Mean:__ The mean is the arithmetic average of a set of numbers. It is calculated by summing all the numbers in the set and dividing by the total number of values. The mean is a good measure of central tendency when the data is normally distributed or when there are no extreme outliers. It is also used as a reference point to compare other measures of central tendency.\n",
    "\n",
    "__2.Median:__ The median is the middle value of a set of numbers. It is the value that separates the upper and lower halves of a dataset. The median is useful when the data has extreme values or outliers that would skew the mean. The median is also a good measure of central tendency when the data is not normally distributed.\n",
    "\n",
    "__3.Mode:__ The mode is the value that appears most frequently in a set of numbers. It is useful when the data is not continuous and when there is a clear peak or cluster in the distribution. The mode can also be used as a measure of central tendency when the data is not normally distributed.\n",
    "\n",
    "__4.Range:__ The range is the difference between the highest and lowest values in a set of numbers. It gives an indication of how spread out the data is. The range is useful for understanding the spread of the data, but it can be heavily influenced by outliers.\n",
    "\n",
    "__5.Variance:__ The variance is a measure of how spread out the data is from the mean. It is calculated by taking the average of the squared differences between each value and the mean. A high variance indicates that the data is spread out, while a low variance indicates that the data is tightly clustered around the mean.\n",
    "\n",
    "__6.Standard Deviation:__ The standard deviation is the square root of the variance. It gives an indication of how much the data deviates from the mean. A high standard deviation indicates that the data is spread out, while a low standard deviation indicates that the data is tightly clustered around the mean."
   ]
  },
  {
   "cell_type": "markdown",
   "id": "f55d1603-897f-45f8-b2f4-f96e07ab95ed",
   "metadata": {},
   "source": [
    "---"
   ]
  }
 ],
 "metadata": {
  "kernelspec": {
   "display_name": "Python 3 (ipykernel)",
   "language": "python",
   "name": "python3"
  },
  "language_info": {
   "codemirror_mode": {
    "name": "ipython",
    "version": 3
   },
   "file_extension": ".py",
   "mimetype": "text/x-python",
   "name": "python",
   "nbconvert_exporter": "python",
   "pygments_lexer": "ipython3",
   "version": "3.11.1"
  }
 },
 "nbformat": 4,
 "nbformat_minor": 5
}
