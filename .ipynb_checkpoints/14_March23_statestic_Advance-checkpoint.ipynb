{
 "cells": [
  {
   "cell_type": "markdown",
   "id": "b2cd6668-88be-44cf-8c0c-15d6bf7af435",
   "metadata": {},
   "source": [
    "### 1. Write a Python function that takes in two arrays of data and calculates the F-value for a variance ratio test. The function should return the F-value and the corresponding p-value for the test."
   ]
  },
  {
   "cell_type": "code",
   "execution_count": 7,
   "id": "b9ca001b-0b43-4443-9838-a39030f22b33",
   "metadata": {
    "tags": []
   },
   "outputs": [
    {
     "name": "stdout",
     "output_type": "stream",
     "text": [
      "F-value: 0.4724730629159195\n",
      "p-value: 0.9540919185705471\n"
     ]
    }
   ],
   "source": [
    "\n",
    "import scipy.stats as stats\n",
    "import numpy as np\n",
    "\n",
    "def var_ratio_test(data1, data2):\n",
    "    var1 = stats.variation(data1, ddof=1)\n",
    "    var2 = stats.variation(data2, ddof=1)\n",
    "    F = var1/var2\n",
    "    df1 = len(data1) - 1\n",
    "    df2 = len(data2) - 1\n",
    "    p_value = 1 - stats.f.cdf(F, df1, df2)\n",
    "    \n",
    "    return F, p_value\n",
    "\n",
    "data1 = np.random.normal(loc=0, scale=1, size=20)\n",
    "data2 = np.random.normal(loc=0, scale=2, size=30)\n",
    "\n",
    "F, p_value = var_ratio_test(data1, data2)\n",
    "print(\"F-value:\", F)\n",
    "print(\"p-value:\", p_value)"
   ]
  },
  {
   "cell_type": "markdown",
   "id": "50a4a7c6-603a-4776-ae01-19c1e3580f58",
   "metadata": {},
   "source": [
    "---"
   ]
  },
  {
   "cell_type": "markdown",
   "id": "04d92562-397e-45f7-85d5-e056e3f3d807",
   "metadata": {},
   "source": [
    "### 2. Given a significance level of 0.05 and the degrees of freedom for the numerator and denominator of an F-distribution, write a Python function that returns the critical F-value for a two-tailed test."
   ]
  },
  {
   "cell_type": "code",
   "execution_count": 8,
   "id": "69adb7f6-75ab-490a-876b-dc60d9039352",
   "metadata": {
    "tags": []
   },
   "outputs": [
    {
     "data": {
      "text/plain": [
       "(4.236085668188633, 0.15107670102998208)"
      ]
     },
     "execution_count": 8,
     "metadata": {},
     "output_type": "execute_result"
    }
   ],
   "source": [
    "\n",
    "import scipy.stats as stats\n",
    "\n",
    "def crit_F_value(df1, df2, alpha=0.05):\n",
    "    return stats.f.ppf(1 - alpha/2, df1, df2), stats.f.ppf(alpha/2, df1, df2)\n",
    "\n",
    "crit_F_value(5, 10, 0.05)"
   ]
  },
  {
   "cell_type": "markdown",
   "id": "7648968f-6065-4c45-a626-bc08c99d9496",
   "metadata": {},
   "source": [
    "---"
   ]
  },
  {
   "cell_type": "markdown",
   "id": "11be5c49-d408-4daa-9d04-b5133794809e",
   "metadata": {},
   "source": [
    "### 3.Write a Python program that generates random samples from two normal distributions with known variances and uses an F-test to determine if the variances are equal. The program should output the F- value, degrees of freedom, and p-value for the test."
   ]
  },
  {
   "cell_type": "code",
   "execution_count": 9,
   "id": "19010b0b-fd8b-40fa-85c0-f7addd9e787f",
   "metadata": {
    "tags": []
   },
   "outputs": [
    {
     "name": "stdout",
     "output_type": "stream",
     "text": [
      "F-value:  0.5724556168982523\n",
      "Degrees of freedom:  49  and  59\n",
      "P-value:  0.9768783848562302\n"
     ]
    }
   ],
   "source": [
    "\n",
    "import numpy as np\n",
    "from scipy.stats import f\n",
    "\n",
    "\n",
    "np.random.seed(123)\n",
    "var1 = 2\n",
    "var2 = 4\n",
    "n1 = 50\n",
    "n2 = 60\n",
    "\n",
    "sample1 = np.random.normal(loc=0, scale=np.sqrt(var1), size=n1)\n",
    "sample2 = np.random.normal(loc=0, scale=np.sqrt(var2), size=n2)\n",
    "\n",
    "f_statistic = np.var(sample1, ddof=1) / np.var(sample2, ddof=1)\n",
    "df1 = n1 - 1\n",
    "df2 = n2 - 1\n",
    "p_value = f.sf(f_statistic, df1, df2)\n",
    "\n",
    "print(\"F-value: \", f_statistic)\n",
    "print(\"Degrees of freedom: \", df1, \" and \", df2)\n",
    "print(\"P-value: \", p_value)"
   ]
  },
  {
   "cell_type": "markdown",
   "id": "2e99e8b8-6b18-4920-8eb8-771d5cc8d9ab",
   "metadata": {},
   "source": [
    "---"
   ]
  },
  {
   "cell_type": "markdown",
   "id": "eb370853-3a5a-4eaf-b7ae-09bba03d6e2c",
   "metadata": {},
   "source": [
    "### 4.The variances of two populations are known to be 10 and 15. A sample of 12 observations is taken from each population. Conduct an F-test at the 5% significance level to determine if the variances are significantly different."
   ]
  },
  {
   "cell_type": "code",
   "execution_count": 10,
   "id": "d2a9466d-b08f-4ba7-9d29-1774124a3d54",
   "metadata": {
    "tags": []
   },
   "outputs": [
    {
     "name": "stdout",
     "output_type": "stream",
     "text": [
      "Fail to reject the null hypothesis\n"
     ]
    }
   ],
   "source": [
    "\n",
    "import scipy.stats as stats\n",
    "\n",
    "var1 = 10\n",
    "var2 = 15\n",
    "n1 = 12\n",
    "n2 = 12\n",
    "alpha = 0.05\n",
    "\n",
    "F_statistic = var1 / var2\n",
    "\n",
    "df1 = n1 - 1\n",
    "df2 = n2 - 1\n",
    "critical_F = stats.f.ppf(q=1-alpha/2, dfn=df1, dfd=df2)\n",
    "\n",
    "p_value = 2 * min(stats.f.sf(F_statistic, df1, df2), stats.f.cdf(F_statistic, df1, df2))\n",
    "\n",
    "if F_statistic > critical_F or p_value < alpha:\n",
    "    print(\"Reject the null hypothesis\")\n",
    "else:\n",
    "    print(\"Fail to reject the null hypothesis\")"
   ]
  },
  {
   "cell_type": "markdown",
   "id": "8fdf0e74-265d-463d-b006-951fe0c48d91",
   "metadata": {},
   "source": [
    "---"
   ]
  },
  {
   "cell_type": "markdown",
   "id": "c016abc8-3ece-4703-bb58-00ab4693cbc0",
   "metadata": {},
   "source": [
    "### 5. A manufacturer claims that the variance of the diameter of a certain product is 0.005. A sample of 25 products is taken, and the sample variance is found to be 0.006. Conduct an F-test at the 1% significance level to determine if the claim is justified."
   ]
  },
  {
   "cell_type": "code",
   "execution_count": 11,
   "id": "4ec5a4d7-cced-4bf7-b572-d25dac9d5bab",
   "metadata": {
    "tags": []
   },
   "outputs": [
    {
     "name": "stdout",
     "output_type": "stream",
     "text": [
      "Fail to reject the null hypothesis\n"
     ]
    }
   ],
   "source": [
    "\n",
    "import scipy.stats as stats\n",
    "\n",
    "sigma_squared = 0.005\n",
    "s_squared = 0.006\n",
    "n = 25\n",
    "alpha = 0.01\n",
    "\n",
    "F_statistic = s_squared / sigma_squared\n",
    "\n",
    "df1 = n - 1\n",
    "df2 = n - 1\n",
    "critical_F = stats.f.ppf(q=1-alpha/2, dfn=df1, dfd=df2)\n",
    "\n",
    "p_value = 2 * min(stats.f.sf(F_statistic, df1, df2), stats.f.cdf(F_statistic, df1, df2))\n",
    "\n",
    "if F_statistic > critical_F or p_value < alpha:\n",
    "    print(\"Reject the null hypothesis\")\n",
    "else:\n",
    "    print(\"Fail to reject the null hypothesis\")"
   ]
  },
  {
   "cell_type": "markdown",
   "id": "ffc9bcea-c67e-4a9b-8343-8a32452bb4f7",
   "metadata": {},
   "source": [
    "---"
   ]
  },
  {
   "cell_type": "markdown",
   "id": "6285133d-6f7c-4a15-8910-823499eb88b9",
   "metadata": {},
   "source": [
    "### 6. Write a Python function that takes in the degrees of freedom for the numerator and denominator of an F-distribution and calculates the mean and variance of the distribution. The function should return the mean and variance as a tuple."
   ]
  },
  {
   "cell_type": "code",
   "execution_count": 12,
   "id": "062b4eda-c50b-46bb-b9b8-a867026a8f09",
   "metadata": {
    "tags": []
   },
   "outputs": [
    {
     "name": "stdout",
     "output_type": "stream",
     "text": [
      "Mean: 1.25\n",
      "Variance: 1.3541666666666667\n"
     ]
    }
   ],
   "source": [
    "\n",
    "import math\n",
    "\n",
    "def f_distribution_mean_and_variance(dfn, dfd):\n",
    "    mean = dfd / (dfd - 2)\n",
    "    variance = (2 * (dfd ** 2) * (dfn + dfd - 2)) / ((dfn * (dfd - 2) ** 2 * (dfd - 4)))\n",
    "    return mean, variance\n",
    "\n",
    "dfn = 5\n",
    "dfd = 10\n",
    "mean, variance = f_distribution_mean_and_variance(dfn, dfd)\n",
    "print(\"Mean:\", mean)\n",
    "print(\"Variance:\", variance)"
   ]
  },
  {
   "cell_type": "markdown",
   "id": "c6c01097-54f7-4202-b83a-2425d4396312",
   "metadata": {},
   "source": [
    "---"
   ]
  },
  {
   "cell_type": "markdown",
   "id": "01409e75-b8d1-4f39-a1eb-3b07954f4219",
   "metadata": {},
   "source": [
    "### 7. A random sample of 10 measurements is taken from a normal population with unknown variance. The sample variance is found to be 25. Another random sample of 15 measurements is taken from another normal population with unknown variance, and the sample variance is found to be 20. Conduct an F-test at the 10% significance level to determine if the variances are significantly different."
   ]
  },
  {
   "cell_type": "code",
   "execution_count": 13,
   "id": "f336b0b9-5025-4216-b308-1531a02d37dd",
   "metadata": {
    "tags": []
   },
   "outputs": [
    {
     "name": "stdout",
     "output_type": "stream",
     "text": [
      "Fail to reject the null hypothesis\n"
     ]
    }
   ],
   "source": [
    "\n",
    "import scipy.stats as stats\n",
    "\n",
    "alpha = 0.10\n",
    "dfn = 9\n",
    "dfd = 14\n",
    "F=1.25\n",
    "critical_value = stats.f.ppf(1 - alpha, dfn, dfd)\n",
    "\n",
    "\n",
    "if F > critical_value:\n",
    "    print(\"Reject the null hypothesis\")\n",
    "else:\n",
    "    print(\"Fail to reject the null hypothesis\")"
   ]
  },
  {
   "cell_type": "markdown",
   "id": "8916c29a-da10-4ff1-a4f2-85ebf8d4bab7",
   "metadata": {},
   "source": [
    "---"
   ]
  },
  {
   "cell_type": "markdown",
   "id": "24eb5b3c-8088-4226-9181-66ba0bdbe29e",
   "metadata": {},
   "source": [
    "### 8. The following data represent the waiting times in minutes at two different restaurants on a Saturday night: Restaurant A: 24, 25, 28, 23, 22, 20, 27; Restaurant B: 31, 33, 35, 30, 32, 36. Conduct an F-test at the 5% significance level to determine if the variances are significantly different."
   ]
  },
  {
   "cell_type": "code",
   "execution_count": 14,
   "id": "64579a62-d811-4818-aeb2-63f7ae2c53fb",
   "metadata": {
    "tags": []
   },
   "outputs": [
    {
     "name": "stdout",
     "output_type": "stream",
     "text": [
      "Fail to reject the null hypothesis\n"
     ]
    }
   ],
   "source": [
    "\n",
    "import scipy.stats as stats\n",
    "\n",
    "alpha = 0.05\n",
    "dfn = 6\n",
    "dfd = 5\n",
    "F = 2.1071\n",
    "\n",
    "critical_value = stats.f.ppf(1 - alpha, dfn, dfd)\n",
    "\n",
    "if F > critical_value:\n",
    "    print(\"Reject the null hypothesis\")\n",
    "else:\n",
    "    print(\"Fail to reject the null hypothesis\")"
   ]
  },
  {
   "cell_type": "markdown",
   "id": "0c191edf-3d19-4867-b319-392bb1f83fea",
   "metadata": {},
   "source": [
    "---"
   ]
  },
  {
   "cell_type": "markdown",
   "id": "4c778f68-475a-4a24-ac2d-ccd6ebbf4189",
   "metadata": {},
   "source": [
    "### 9. The following data represent the test scores of two groups of students: Group A: 80, 85, 90, 92, 87, 83; Group B: 75, 78, 82, 79, 81, 84. Conduct an F-test at the 1% significance level to determine if the variances are significantly different."
   ]
  },
  {
   "cell_type": "code",
   "execution_count": 15,
   "id": "af31aa60-52d0-43eb-9ef2-3362caec1294",
   "metadata": {
    "tags": []
   },
   "outputs": [
    {
     "name": "stdout",
     "output_type": "stream",
     "text": [
      "Fail to reject the null hypothesis\n"
     ]
    }
   ],
   "source": [
    "\n",
    "import scipy.stats as stats\n",
    "\n",
    "alpha = 0.01\n",
    "dfn = 5\n",
    "dfd = 5\n",
    "F =  4.95\n",
    "critical_value = stats.f.ppf(1 - alpha, dfn, dfd)\n",
    "\n",
    "if F > critical_value:\n",
    "    print(\"Reject the null hypothesis\")\n",
    "else:\n",
    "    print(\"Fail to reject the null hypothesis\")"
   ]
  },
  {
   "cell_type": "markdown",
   "id": "27b2b52b-e628-498f-9cf0-2fc1ca709b83",
   "metadata": {},
   "source": [
    "---"
   ]
  }
 ],
 "metadata": {
  "kernelspec": {
   "display_name": "Python 3 (ipykernel)",
   "language": "python",
   "name": "python3"
  },
  "language_info": {
   "codemirror_mode": {
    "name": "ipython",
    "version": 3
   },
   "file_extension": ".py",
   "mimetype": "text/x-python",
   "name": "python",
   "nbconvert_exporter": "python",
   "pygments_lexer": "ipython3",
   "version": "3.11.1"
  }
 },
 "nbformat": 4,
 "nbformat_minor": 5
}
