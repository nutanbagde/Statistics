{
 "cells": [
  {
   "cell_type": "markdown",
   "id": "62354ef1-3981-4da1-9b63-d2c3187856af",
   "metadata": {},
   "source": [
    "### Q1. What are the three measures of central tendency? "
   ]
  },
  {
   "cell_type": "markdown",
   "id": "75df31ae-d9f6-4fa1-af25-1b812573eb2d",
   "metadata": {},
   "source": [
    "The three measures of central tendency are:\n",
    "\n",
    "__1.Mean:__ The arithmetic mean is the most commonly used measure of central tendency. It is calculated by adding up all the values in a set of data and then dividing by the number of values. The mean is sensitive to outliers, meaning that extreme values can significantly affect the value of the mean.\n",
    "\n",
    "__2.Median:__ The median is the middle value in a set of data when the values are arranged in order. If there is an even number of values, the median is the average of the two middle values. The median is less sensitive to outliers than the mean and is often used when there are extreme values in the data.\n",
    "\n",
    "__3.Mode:__ The mode is the value that occurs most frequently in a set of data. There can be more than one mode or no mode at all. The mode is often used with categorical or nominal data where values cannot be added or averaged."
   ]
  },
  {
   "cell_type": "markdown",
   "id": "24acc8cc-9159-4771-bab2-fc9183d3d1fa",
   "metadata": {},
   "source": [
    "---"
   ]
  },
  {
   "cell_type": "markdown",
   "id": "f6eda0ed-bedb-4ff5-b187-bdaff864aa6a",
   "metadata": {},
   "source": [
    "### Q2. What is the difference between the mean, median, and mode? How are they used to measure the  central tendency of a dataset? "
   ]
  },
  {
   "cell_type": "markdown",
   "id": "32a5b1aa-70c8-4d60-ae3a-607840a777b6",
   "metadata": {},
   "source": [
    "The mean, median, and mode are all measures of central tendency, but they differ in how they represent the center of a dataset.\n",
    "\n",
    "The mean is calculated by adding up all the values in a dataset and dividing by the number of values. It represents the average value of the dataset and is the most commonly used measure of central tendency. The mean is sensitive to extreme values, or outliers, which can greatly affect its value.\n",
    "\n",
    "The median is the middle value in a dataset when the values are arranged in order. It represents the value that splits the dataset into two equal halves. The median is less sensitive to outliers than the mean and is often used when the dataset has extreme values.\n",
    "\n",
    "The mode is the value that appears most frequently in a dataset. It represents the most common value or values in the dataset. The mode is often used with categorical or nominal data where values cannot be added or averaged.\n",
    "\n",
    "To choose the most appropriate measure of central tendency for a dataset, we need to consider the type of data, the distribution of the data, and the presence of outliers. If the data is normally distributed with no outliers, the mean is the most appropriate measure. If the data is skewed or has outliers, the median may be a better representation of the center of the dataset. If the data is categorical, the mode is the most appropriate measure"
   ]
  },
  {
   "cell_type": "markdown",
   "id": "572311de-a301-43cd-b825-8f770f46319a",
   "metadata": {},
   "source": [
    "---"
   ]
  },
  {
   "cell_type": "markdown",
   "id": "10fe73a6-732e-48a5-8e21-285eceb855f5",
   "metadata": {},
   "source": [
    "### Q3. Measure the three measures of central tendency for the given height data:  [178,177,176,177,178.2,178,175,179,180,175,178.9,176.2,177,172.5,178,176.5] \n"
   ]
  },
  {
   "cell_type": "code",
   "execution_count": 2,
   "id": "ee843188-b0a1-4a16-8dd2-db6c262abb1b",
   "metadata": {
    "tags": []
   },
   "outputs": [
    {
     "ename": "ModuleNotFoundError",
     "evalue": "No module named 'scipy'",
     "output_type": "error",
     "traceback": [
      "\u001b[1;31m---------------------------------------------------------------------------\u001b[0m",
      "\u001b[1;31mModuleNotFoundError\u001b[0m                       Traceback (most recent call last)",
      "Cell \u001b[1;32mIn[2], line 2\u001b[0m\n\u001b[0;32m      1\u001b[0m \u001b[38;5;28;01mimport\u001b[39;00m \u001b[38;5;21;01mnumpy\u001b[39;00m \u001b[38;5;28;01mas\u001b[39;00m \u001b[38;5;21;01mnp\u001b[39;00m\n\u001b[1;32m----> 2\u001b[0m \u001b[38;5;28;01mfrom\u001b[39;00m \u001b[38;5;21;01mscipy\u001b[39;00m \u001b[38;5;28;01mimport\u001b[39;00m stats\n\u001b[0;32m      4\u001b[0m height\u001b[38;5;241m=\u001b[39m [\u001b[38;5;241m178\u001b[39m,\u001b[38;5;241m177\u001b[39m,\u001b[38;5;241m176\u001b[39m,\u001b[38;5;241m177\u001b[39m,\u001b[38;5;241m178.2\u001b[39m,\u001b[38;5;241m178\u001b[39m,\u001b[38;5;241m175\u001b[39m,\u001b[38;5;241m179\u001b[39m,\u001b[38;5;241m180\u001b[39m,\u001b[38;5;241m175\u001b[39m,\u001b[38;5;241m178.9\u001b[39m,\u001b[38;5;241m176.2\u001b[39m,\u001b[38;5;241m177\u001b[39m,\u001b[38;5;241m172.5\u001b[39m,\u001b[38;5;241m178\u001b[39m,\u001b[38;5;241m176.5\u001b[39m]\n\u001b[0;32m      5\u001b[0m \u001b[38;5;66;03m#Mean\u001b[39;00m\n",
      "\u001b[1;31mModuleNotFoundError\u001b[0m: No module named 'scipy'"
     ]
    }
   ],
   "source": [
    "import numpy as np\n",
    "from scipy import stats\n",
    "\n",
    "height= [178,177,176,177,178.2,178,175,179,180,175,178.9,176.2,177,172.5,178,176.5]\n",
    "#Mean\n",
    "mean=np.mean(height)\n",
    "print(mean)\n",
    "\n",
    "#Median\n",
    "median=np.median(height)\n",
    "print(median)\n",
    "\n",
    "#Mode\n",
    "mode=stats.mode(height)\n",
    "print(mode)"
   ]
  },
  {
   "cell_type": "markdown",
   "id": "cbcfa36d-2d67-4069-8394-5ea63fd8e07c",
   "metadata": {},
   "source": [
    "---"
   ]
  },
  {
   "cell_type": "markdown",
   "id": "07368e8a-5291-49cf-8823-a8a6b8de3ccc",
   "metadata": {},
   "source": [
    "### Q4. Find the standard deviation for the given data: \n",
    "[178,177,176,177,178.2,178,175,179,180,175,178.9,176.2,177,172.5,178,176.5] \n",
    " "
   ]
  },
  {
   "cell_type": "code",
   "execution_count": null,
   "id": "bc6bf33f-42b7-4ccb-a407-0aad502033eb",
   "metadata": {},
   "outputs": [],
   "source": [
    "import numpy as np\n",
    "data = [178,177,176,177,178.2,178,175,179,180,175,178.9,176.2,177,172.5,178,176.5]\n",
    "np.std(data)"
   ]
  },
  {
   "cell_type": "markdown",
   "id": "d0fd9e66-050d-47ba-a6df-058860689d39",
   "metadata": {},
   "source": [
    "---"
   ]
  },
  {
   "cell_type": "markdown",
   "id": "e1f186e4-dae6-4cd4-ba21-d24ae62d5f5f",
   "metadata": {},
   "source": [
    "### Q5. How are measures of dispersion such as range, variance, and standard deviation used to describe  the spread of a dataset? Provide an example. \n"
   ]
  },
  {
   "cell_type": "markdown",
   "id": "19373edf-ee10-4029-bd07-dd5d9c8ee0bf",
   "metadata": {},
   "source": []
  },
  {
   "cell_type": "markdown",
   "id": "b6dd9582-5a37-4bd7-90e1-d6b7818fc673",
   "metadata": {},
   "source": [
    "---"
   ]
  },
  {
   "cell_type": "markdown",
   "id": "3f08ea94-82cf-404d-90e9-328afc256c7f",
   "metadata": {},
   "source": [
    "### Q6. What is a Venn diagram? \n"
   ]
  },
  {
   "cell_type": "markdown",
   "id": "ae50a09a-8f00-4a24-94da-fd3e70c114b0",
   "metadata": {},
   "source": []
  },
  {
   "cell_type": "markdown",
   "id": "6716f53c-475a-4f83-aa36-cd9b4842f968",
   "metadata": {},
   "source": [
    "---"
   ]
  },
  {
   "cell_type": "markdown",
   "id": "0e74144e-72e6-4505-9aa5-bc698f4c7608",
   "metadata": {},
   "source": [
    "### Q7. For the two given sets A = (2,3,4,5,6,7) & B = (0,2,6,8,10). Find: \n",
    "(i)  A B \n",
    "(ii) A ⋃ B \n"
   ]
  },
  {
   "cell_type": "markdown",
   "id": "108c271e-8c3f-4119-b861-4e78788d0cc9",
   "metadata": {},
   "source": []
  },
  {
   "cell_type": "markdown",
   "id": "8e4c6205-64b4-4839-83b8-a23fb1811eb3",
   "metadata": {},
   "source": [
    "---"
   ]
  },
  {
   "cell_type": "markdown",
   "id": "ac2f7a9e-893b-4ff1-885b-759b393f90e6",
   "metadata": {},
   "source": [
    "### Q8. What do you understand about skewness in data? \n"
   ]
  },
  {
   "cell_type": "markdown",
   "id": "bdcffc3f-cbee-4de5-8149-2e7d90408fd8",
   "metadata": {},
   "source": []
  },
  {
   "cell_type": "markdown",
   "id": "dc14255f-e320-404c-a61b-fa516e7a303a",
   "metadata": {},
   "source": [
    "---"
   ]
  },
  {
   "cell_type": "markdown",
   "id": "ff4c1320-6bc8-4db5-ba17-aff9783cda72",
   "metadata": {},
   "source": [
    "### Q9. If a data is right skewed then what will be the position of median with respect to mean? \n"
   ]
  },
  {
   "cell_type": "markdown",
   "id": "6d53fa0b-1658-4227-8b54-42b9b19f393f",
   "metadata": {},
   "source": []
  },
  {
   "cell_type": "markdown",
   "id": "24726051-2272-489a-ac34-9481a6f51e78",
   "metadata": {},
   "source": [
    "----"
   ]
  },
  {
   "cell_type": "markdown",
   "id": "53e07841-85bf-4d48-a845-c58f843da46d",
   "metadata": {},
   "source": [
    "### Q10. Explain the difference between covariance and correlation. How are these measures used in  statistical analysis? \n"
   ]
  },
  {
   "cell_type": "markdown",
   "id": "5f1eadad-6e24-495e-880b-1e7741ec5fa3",
   "metadata": {},
   "source": []
  },
  {
   "cell_type": "markdown",
   "id": "a58676e2-aa5f-4c25-9797-6bfaba2cb001",
   "metadata": {
    "tags": []
   },
   "source": [
    "---"
   ]
  },
  {
   "cell_type": "markdown",
   "id": "594dd738-eb42-4370-b45e-b0be0b9cbfdf",
   "metadata": {},
   "source": [
    "### Q11. What is the formula for calculating the sample mean? Provide an example calculation for a  dataset. "
   ]
  },
  {
   "cell_type": "markdown",
   "id": "66e630f7-3dd7-4909-a25a-643c3d51c6b6",
   "metadata": {},
   "source": []
  },
  {
   "cell_type": "markdown",
   "id": "87205699-8eb3-487c-a8b9-369f69c00e63",
   "metadata": {},
   "source": [
    "---"
   ]
  },
  {
   "cell_type": "markdown",
   "id": "5056c054-59f2-40b4-9006-811e101e7c1d",
   "metadata": {},
   "source": [
    "### Q12. For a normal distribution data what is the relationship between its measure of central tendency?\n"
   ]
  },
  {
   "cell_type": "markdown",
   "id": "15c7f633-198d-4c04-b843-b9513d6096a1",
   "metadata": {},
   "source": []
  },
  {
   "cell_type": "markdown",
   "id": "15418a14-6da3-42bd-aca6-f5accbd4f981",
   "metadata": {},
   "source": [
    "---"
   ]
  },
  {
   "cell_type": "markdown",
   "id": "95f07f85-37c6-4299-8379-e388cf26409a",
   "metadata": {},
   "source": [
    "### Q13. How is covariance different from correlation? \n"
   ]
  },
  {
   "cell_type": "markdown",
   "id": "7be534b2-158c-4254-b999-b14e74d853ce",
   "metadata": {},
   "source": []
  },
  {
   "cell_type": "markdown",
   "id": "a4fe94d3-65eb-454e-8af1-3a5ed4c90af5",
   "metadata": {},
   "source": [
    "---"
   ]
  },
  {
   "cell_type": "markdown",
   "id": "030c0af5-5db9-4957-9976-e497c5e50711",
   "metadata": {},
   "source": [
    "### Q14. How do outliers affect measures of central tendency and dispersion? Provide an example."
   ]
  },
  {
   "cell_type": "markdown",
   "id": "8c6f32c6-45c6-47ff-8952-5092343b198c",
   "metadata": {},
   "source": []
  }
 ],
 "metadata": {
  "kernelspec": {
   "display_name": "Python 3 (ipykernel)",
   "language": "python",
   "name": "python3"
  },
  "language_info": {
   "codemirror_mode": {
    "name": "ipython",
    "version": 3
   },
   "file_extension": ".py",
   "mimetype": "text/x-python",
   "name": "python",
   "nbconvert_exporter": "python",
   "pygments_lexer": "ipython3",
   "version": "3.11.1"
  }
 },
 "nbformat": 4,
 "nbformat_minor": 5
}
