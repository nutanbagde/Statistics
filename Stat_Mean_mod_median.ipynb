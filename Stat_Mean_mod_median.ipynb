{
 "cells": [
  {
   "cell_type": "markdown",
   "id": "9a050d9d-2377-4901-a09c-2b2092bd1186",
   "metadata": {},
   "source": [
    "## A. measure of central tendancy"
   ]
  },
  {
   "cell_type": "markdown",
   "id": "dd365d03-772f-4b26-b525-37f258190e5b",
   "metadata": {
    "tags": []
   },
   "source": [
    "## Mean"
   ]
  },
  {
   "cell_type": "code",
   "execution_count": 1,
   "id": "6cd20918-c0d6-4efe-ab94-52dd7e9583c3",
   "metadata": {
    "tags": []
   },
   "outputs": [],
   "source": [
    "age=[12, 13, 14, 21, 24]"
   ]
  },
  {
   "cell_type": "code",
   "execution_count": 2,
   "id": "e80fc454-05e2-4101-948c-8a1b818e9dce",
   "metadata": {
    "tags": []
   },
   "outputs": [
    {
     "data": {
      "text/plain": [
       "16.8"
      ]
     },
     "execution_count": 2,
     "metadata": {},
     "output_type": "execute_result"
    }
   ],
   "source": [
    "sum(age)/len(age)"
   ]
  },
  {
   "cell_type": "code",
   "execution_count": 3,
   "id": "e8747193-3174-4deb-af59-33f4d8477a99",
   "metadata": {
    "tags": []
   },
   "outputs": [
    {
     "data": {
      "text/plain": [
       "16.8"
      ]
     },
     "execution_count": 3,
     "metadata": {},
     "output_type": "execute_result"
    }
   ],
   "source": [
    "import numpy as np\n",
    "np.mean(age)"
   ]
  },
  {
   "cell_type": "code",
   "execution_count": 4,
   "id": "36dc4c9d-dafe-426e-b3a9-e5f9b4fe608b",
   "metadata": {
    "tags": []
   },
   "outputs": [],
   "source": [
    "weight=[45,34,55,76,45,35,89,98,75]"
   ]
  },
  {
   "cell_type": "code",
   "execution_count": 5,
   "id": "ba0e18d2-92a0-46ea-a8f1-66bad7283127",
   "metadata": {
    "tags": []
   },
   "outputs": [
    {
     "data": {
      "text/plain": [
       "61.333333333333336"
      ]
     },
     "execution_count": 5,
     "metadata": {},
     "output_type": "execute_result"
    }
   ],
   "source": [
    "np.mean(weight)"
   ]
  },
  {
   "cell_type": "code",
   "execution_count": 6,
   "id": "988946e0-8e09-4a24-8c1d-15a7eb55062f",
   "metadata": {
    "tags": []
   },
   "outputs": [
    {
     "data": {
      "text/plain": [
       "155.2"
      ]
     },
     "execution_count": 6,
     "metadata": {},
     "output_type": "execute_result"
    }
   ],
   "source": [
    "weight=[45,34,55,76,45,35,89,98,75, 1000] # add outlire=1000\n",
    "np.mean(weight)"
   ]
  },
  {
   "cell_type": "markdown",
   "id": "0656f06c-91dc-43b6-8b52-33209fd4d370",
   "metadata": {},
   "source": [
    "## Meadian"
   ]
  },
  {
   "cell_type": "code",
   "execution_count": 7,
   "id": "5f94aa12-e088-44bc-918b-168ad110a0f8",
   "metadata": {
    "tags": []
   },
   "outputs": [
    {
     "data": {
      "text/plain": [
       "55.0"
      ]
     },
     "execution_count": 7,
     "metadata": {},
     "output_type": "execute_result"
    }
   ],
   "source": [
    "weight=[45,34,55,76,45,35,89,98,75]\n",
    "np.median(weight)"
   ]
  },
  {
   "cell_type": "code",
   "execution_count": 8,
   "id": "2c9767a0-58f7-42c0-a433-8f65d8c83d00",
   "metadata": {
    "tags": []
   },
   "outputs": [
    {
     "data": {
      "text/plain": [
       "65.0"
      ]
     },
     "execution_count": 8,
     "metadata": {},
     "output_type": "execute_result"
    }
   ],
   "source": [
    "weight=[45,34,55,76,45,35,89,98,75,1000]# add outlire=1000\n",
    "np.median(weight)"
   ]
  },
  {
   "cell_type": "markdown",
   "id": "218ed446-e015-484b-95f0-798705b1b4c0",
   "metadata": {},
   "source": [
    "## Mode"
   ]
  },
  {
   "cell_type": "code",
   "execution_count": 9,
   "id": "53d94be7-9c70-41f9-9cbd-3f5976023c9f",
   "metadata": {
    "tags": []
   },
   "outputs": [],
   "source": [
    "from scipy import stats"
   ]
  },
  {
   "cell_type": "code",
   "execution_count": 10,
   "id": "ef6d3832-a5c0-4902-b1a9-2d70de25673e",
   "metadata": {
    "tags": []
   },
   "outputs": [
    {
     "data": {
      "text/plain": [
       "ModeResult(mode=45, count=2)"
      ]
     },
     "execution_count": 10,
     "metadata": {},
     "output_type": "execute_result"
    }
   ],
   "source": [
    "stats.mode(weight)"
   ]
  },
  {
   "cell_type": "markdown",
   "id": "0ea06db2-492e-4b08-ad70-54093710bf89",
   "metadata": {},
   "source": [
    "## Measure of dispersion"
   ]
  },
  {
   "cell_type": "markdown",
   "id": "26004fab-19b9-45f4-b8cc-8c0b92e7b693",
   "metadata": {},
   "source": [
    "## 1. Varience"
   ]
  },
  {
   "cell_type": "code",
   "execution_count": 12,
   "id": "6f3fd8bc-e9e6-449f-94d2-a9f94cf9cc93",
   "metadata": {},
   "outputs": [],
   "source": [
    "age_list=[23,43,23,56,74,32,68,98,45,32]"
   ]
  },
  {
   "cell_type": "code",
   "execution_count": 13,
   "id": "88ec5e3c-342c-4c85-9a02-215b4eacf3ab",
   "metadata": {},
   "outputs": [],
   "source": [
    "import numpy as np"
   ]
  },
  {
   "cell_type": "code",
   "execution_count": 14,
   "id": "f7594e9f-f85d-4369-ae82-92c2da0b0c70",
   "metadata": {
    "tags": []
   },
   "outputs": [],
   "source": [
    "mean=np.mean(age_list)"
   ]
  },
  {
   "cell_type": "code",
   "execution_count": 15,
   "id": "dfba5f8b-7c92-4d76-be7f-ddc4e67d38f9",
   "metadata": {
    "tags": []
   },
   "outputs": [
    {
     "data": {
      "text/plain": [
       "49.4"
      ]
     },
     "execution_count": 15,
     "metadata": {},
     "output_type": "execute_result"
    }
   ],
   "source": [
    "mean"
   ]
  },
  {
   "cell_type": "code",
   "execution_count": 16,
   "id": "09d8a01b-5441-4027-bb59-a573ac84e0f7",
   "metadata": {
    "tags": []
   },
   "outputs": [],
   "source": [
    "var=np.var(age_list)"
   ]
  },
  {
   "cell_type": "markdown",
   "id": "1748b499-ed79-4d3d-a5ab-6316b4384106",
   "metadata": {
    "tags": []
   },
   "source": [
    "## 2. Standard deviation"
   ]
  },
  {
   "cell_type": "code",
   "execution_count": 18,
   "id": "ab3e0697-1b7d-4990-a8cd-03641420264f",
   "metadata": {
    "tags": []
   },
   "outputs": [],
   "source": [
    "std=np.std(age_list)"
   ]
  },
  {
   "cell_type": "code",
   "execution_count": 19,
   "id": "448647c9-e03b-4636-99f4-2a190a0d14a6",
   "metadata": {
    "tags": []
   },
   "outputs": [
    {
     "data": {
      "text/plain": [
       "23.273160507331188"
      ]
     },
     "execution_count": 19,
     "metadata": {},
     "output_type": "execute_result"
    }
   ],
   "source": [
    "std"
   ]
  },
  {
   "cell_type": "code",
   "execution_count": 20,
   "id": "00048855-b2db-47f3-afc1-fea7298101ec",
   "metadata": {
    "tags": []
   },
   "outputs": [],
   "source": [
    "import pandas as pd "
   ]
  },
  {
   "cell_type": "code",
   "execution_count": 21,
   "id": "e7bb43b9-f4bd-4085-aa1f-f2a2966cbfa3",
   "metadata": {
    "tags": []
   },
   "outputs": [],
   "source": [
    "data=[[10,12,13],[34,23,45],[32,34,21]]"
   ]
  },
  {
   "cell_type": "code",
   "execution_count": 25,
   "id": "6d8779b9-1f5e-4f6c-b473-53ddc4bb05c8",
   "metadata": {
    "tags": []
   },
   "outputs": [],
   "source": [
    "df=pd.DataFrame(data, columns=['a','b','c'])"
   ]
  },
  {
   "cell_type": "code",
   "execution_count": 26,
   "id": "39ed326d-b220-4e94-bd0f-9e5c3c2eb294",
   "metadata": {
    "tags": []
   },
   "outputs": [
    {
     "data": {
      "text/html": [
       "<div>\n",
       "<style scoped>\n",
       "    .dataframe tbody tr th:only-of-type {\n",
       "        vertical-align: middle;\n",
       "    }\n",
       "\n",
       "    .dataframe tbody tr th {\n",
       "        vertical-align: top;\n",
       "    }\n",
       "\n",
       "    .dataframe thead th {\n",
       "        text-align: right;\n",
       "    }\n",
       "</style>\n",
       "<table border=\"1\" class=\"dataframe\">\n",
       "  <thead>\n",
       "    <tr style=\"text-align: right;\">\n",
       "      <th></th>\n",
       "      <th>a</th>\n",
       "      <th>b</th>\n",
       "      <th>c</th>\n",
       "    </tr>\n",
       "  </thead>\n",
       "  <tbody>\n",
       "    <tr>\n",
       "      <th>0</th>\n",
       "      <td>10</td>\n",
       "      <td>12</td>\n",
       "      <td>13</td>\n",
       "    </tr>\n",
       "    <tr>\n",
       "      <th>1</th>\n",
       "      <td>34</td>\n",
       "      <td>23</td>\n",
       "      <td>45</td>\n",
       "    </tr>\n",
       "    <tr>\n",
       "      <th>2</th>\n",
       "      <td>32</td>\n",
       "      <td>34</td>\n",
       "      <td>21</td>\n",
       "    </tr>\n",
       "  </tbody>\n",
       "</table>\n",
       "</div>"
      ],
      "text/plain": [
       "    a   b   c\n",
       "0  10  12  13\n",
       "1  34  23  45\n",
       "2  32  34  21"
      ]
     },
     "execution_count": 26,
     "metadata": {},
     "output_type": "execute_result"
    }
   ],
   "source": [
    "df"
   ]
  },
  {
   "cell_type": "code",
   "execution_count": 27,
   "id": "0a68b1cc-fade-4247-b40f-624af80b2fba",
   "metadata": {
    "tags": []
   },
   "outputs": [
    {
     "data": {
      "text/plain": [
       "a    177.333333\n",
       "b    121.000000\n",
       "c    277.333333\n",
       "dtype: float64"
      ]
     },
     "execution_count": 27,
     "metadata": {},
     "output_type": "execute_result"
    }
   ],
   "source": [
    "df.var()"
   ]
  },
  {
   "cell_type": "markdown",
   "id": "2b880e66-7416-4431-aa8c-a9b715ec5b68",
   "metadata": {},
   "source": [
    "### row wise calculation"
   ]
  },
  {
   "cell_type": "code",
   "execution_count": 29,
   "id": "6c573872-61e9-402a-9895-5d7d1e9f9b3a",
   "metadata": {
    "tags": []
   },
   "outputs": [
    {
     "data": {
      "text/plain": [
       "0      2.333333\n",
       "1    121.000000\n",
       "2     49.000000\n",
       "dtype: float64"
      ]
     },
     "execution_count": 29,
     "metadata": {},
     "output_type": "execute_result"
    }
   ],
   "source": [
    "df.var(axis=1)"
   ]
  },
  {
   "cell_type": "markdown",
   "id": "b3b07c8f-227c-4a92-91f9-d337db04ec7c",
   "metadata": {},
   "source": [
    "### column wise calculation"
   ]
  },
  {
   "cell_type": "code",
   "execution_count": 30,
   "id": "b2881992-57af-41f3-a643-1229977740af",
   "metadata": {
    "tags": []
   },
   "outputs": [
    {
     "data": {
      "text/plain": [
       "a    177.333333\n",
       "b    121.000000\n",
       "c    277.333333\n",
       "dtype: float64"
      ]
     },
     "execution_count": 30,
     "metadata": {},
     "output_type": "execute_result"
    }
   ],
   "source": [
    "df.var(axis=0) # df.var()"
   ]
  },
  {
   "cell_type": "code",
   "execution_count": null,
   "id": "423c36c5-a412-49e3-8b17-d10cd58a70b9",
   "metadata": {},
   "outputs": [],
   "source": []
  }
 ],
 "metadata": {
  "kernelspec": {
   "display_name": "Python 3 (ipykernel)",
   "language": "python",
   "name": "python3"
  },
  "language_info": {
   "codemirror_mode": {
    "name": "ipython",
    "version": 3
   },
   "file_extension": ".py",
   "mimetype": "text/x-python",
   "name": "python",
   "nbconvert_exporter": "python",
   "pygments_lexer": "ipython3",
   "version": "3.11.1"
  }
 },
 "nbformat": 4,
 "nbformat_minor": 5
}
