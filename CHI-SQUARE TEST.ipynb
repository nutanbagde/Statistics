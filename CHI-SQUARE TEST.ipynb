{
 "cells": [
  {
   "cell_type": "code",
   "execution_count": 2,
   "id": "8772053e-18ef-4165-a12c-e24ef48f6139",
   "metadata": {},
   "outputs": [],
   "source": [
    "import scipy.stats as stat\n",
    "import numpy as np"
   ]
  },
  {
   "cell_type": "code",
   "execution_count": 22,
   "id": "6b29bbc2-2d8c-4a65-a70e-81d9328c7221",
   "metadata": {
    "tags": []
   },
   "outputs": [],
   "source": [
    "## wordan says that ==> no. of hours student study daily in a weekly basis\n",
    "## Monday, Tuesday, Wednesday, Thursday, and Friday; while Saturday and Sunday\n",
    "expected_data=[8,6,7,9,6,9,7] # population data\n",
    "observed_data=[7,8,6,9,9,6,7] # sample data obseved in hours"
   ]
  },
  {
   "cell_type": "code",
   "execution_count": 17,
   "id": "60153cbb-abd0-4b40-931f-122e18690d8b",
   "metadata": {
    "tags": []
   },
   "outputs": [
    {
     "data": {
      "text/plain": [
       "(52, 52)"
      ]
     },
     "execution_count": 17,
     "metadata": {},
     "output_type": "execute_result"
    }
   ],
   "source": [
    "sum(expected_data), sum(observed_data) # sum of this 2 data should be equall "
   ]
  },
  {
   "cell_type": "code",
   "execution_count": 18,
   "id": "22d828f4-5de5-4355-a7ce-6b6449cadba4",
   "metadata": {
    "tags": []
   },
   "outputs": [],
   "source": [
    "## Apply chi squre goodness of fit\n",
    "## here we get two value chisquare_test_statestic,p_value=\n",
    "chisquare_test_statestic,p_value=stat.chisquare(observed_data, expected_data)"
   ]
  },
  {
   "cell_type": "code",
   "execution_count": 19,
   "id": "b4c68ee2-5034-49cd-8869-56d61b155905",
   "metadata": {
    "tags": []
   },
   "outputs": [
    {
     "name": "stdout",
     "output_type": "stream",
     "text": [
      "3.4345238095238093\n",
      "0.7526596580922865\n"
     ]
    },
    {
     "data": {
      "text/plain": [
       "(None, None)"
      ]
     },
     "execution_count": 19,
     "metadata": {},
     "output_type": "execute_result"
    }
   ],
   "source": [
    "print(chisquare_test_statestic),print(p_value)"
   ]
  },
  {
   "cell_type": "code",
   "execution_count": 20,
   "id": "a03d7807-6dcc-4f4f-91e7-d1f14a98d7da",
   "metadata": {
    "tags": []
   },
   "outputs": [],
   "source": [
    "## find critical value \n",
    "\n",
    "significance=0.05 # where c.I=95% (confidence interval)\n",
    "dof=len(observed_data)-1# dof==df = degree of freedom\n",
    "critical_value=stat.chi2.ppf(1-significance, dof) ## to find critical value"
   ]
  },
  {
   "cell_type": "code",
   "execution_count": 21,
   "id": "719bb398-952c-45c9-ba2a-09e58547917a",
   "metadata": {},
   "outputs": [
    {
     "data": {
      "text/plain": [
       "12.591587243743977"
      ]
     },
     "execution_count": 21,
     "metadata": {},
     "output_type": "execute_result"
    }
   ],
   "source": [
    "critical_value"
   ]
  },
  {
   "cell_type": "code",
   "execution_count": 14,
   "id": "a74a4b56-a153-4731-bc79-947337bcb509",
   "metadata": {
    "tags": []
   },
   "outputs": [
    {
     "name": "stdout",
     "output_type": "stream",
     "text": [
      "Accept the null hypothesis\n"
     ]
    }
   ],
   "source": [
    "if chisquare_test_statestic > critical_value:\n",
    "    print(\"reject the null hypothesis\")\n",
    "else:\n",
    "    print(\"Accept the null hypothesis\")"
   ]
  },
  {
   "cell_type": "markdown",
   "id": "243471a6-cbd5-479b-acac-63d40b742a17",
   "metadata": {},
   "source": [
    "### __Conclusion__:- whatever warden sayes with respect  to the population data and whatever data i choose , thos distribution are actually matching w.r.t. the study hour "
   ]
  },
  {
   "cell_type": "code",
   "execution_count": null,
   "id": "90cad18a-bde3-489b-a202-ac3f62a3443f",
   "metadata": {},
   "outputs": [],
   "source": []
  }
 ],
 "metadata": {
  "kernelspec": {
   "display_name": "Python 3 (ipykernel)",
   "language": "python",
   "name": "python3"
  },
  "language_info": {
   "codemirror_mode": {
    "name": "ipython",
    "version": 3
   },
   "file_extension": ".py",
   "mimetype": "text/x-python",
   "name": "python",
   "nbconvert_exporter": "python",
   "pygments_lexer": "ipython3",
   "version": "3.11.1"
  }
 },
 "nbformat": 4,
 "nbformat_minor": 5
}
