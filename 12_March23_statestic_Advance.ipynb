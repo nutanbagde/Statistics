{
 "cells": [
  {
   "cell_type": "markdown",
   "id": "5111d0a5-4721-4e9d-aa32-aa4347add72f",
   "metadata": {},
   "source": [
    "### 1. Calculate the 95% confidence interval for a sample of data with a mean of 50 and a standard deviation of 5 using Python. Interpret the results."
   ]
  },
  {
   "cell_type": "code",
   "execution_count": 4,
   "id": "56b8f692-31e4-4714-80db-4985f3114edb",
   "metadata": {
    "tags": []
   },
   "outputs": [
    {
     "name": "stdout",
     "output_type": "stream",
     "text": [
      "The 95% confidence interval is (49.01, 50.99)\n"
     ]
    }
   ],
   "source": [
    "\n",
    "from scipy import stats\n",
    "mean = 50\n",
    "std_dev = 5\n",
    "n = 100\n",
    "conf_level = 0.95\n",
    "\n",
    "std_error = std_dev / (n ** 0.5)\n",
    "t_score = stats.t.ppf((1 + conf_level) / 2, n-1)\n",
    "moe = t_score * std_error\n",
    "\n",
    "lower = mean - moe\n",
    "upper = mean + moe\n",
    "\n",
    "print(\"The 95% confidence interval is ({:.2f}, {:.2f})\".format(lower, upper))"
   ]
  },
  {
   "cell_type": "markdown",
   "id": "205bd59b-c831-4837-b437-ec0b4cbd6db2",
   "metadata": {
    "tags": []
   },
   "source": [
    "---"
   ]
  },
  {
   "cell_type": "markdown",
   "id": "4b787099-4479-4e5a-aba1-158b8de84649",
   "metadata": {},
   "source": [
    "### 2. Conduct a chi-square goodness of fit test to determine if the distribution of colors of M&Ms in a bag matches the expected distribution of 20% blue, 20% orange, 20% green, 10% yellow, 10% red, and 20% brown. Use Python to perform the test with a significance level of 0.05."
   ]
  },
  {
   "cell_type": "code",
   "execution_count": 5,
   "id": "ff0a29b0-c8e3-48db-9ad8-ebfca700c786",
   "metadata": {
    "tags": []
   },
   "outputs": [
    {
     "name": "stdout",
     "output_type": "stream",
     "text": [
      "Chi-square statistic: 1.1500000000000001\n",
      "p-value: 0.9495832980185948\n",
      "Fail to reject null hypothesis: observed frequencies do not differ significantly from expected frequencies\n"
     ]
    }
   ],
   "source": [
    "\n",
    "from scipy import stats\n",
    "import numpy as np\n",
    "observed = np.array([18, 22, 19, 12, 11, 18])\n",
    "expected = np.array([0.2, 0.2, 0.2, 0.1, 0.1, 0.2]) * sum(observed)\n",
    "chi_sq_stat, p_value = stats.chisquare(observed, expected)\n",
    "\n",
    "print(\"Chi-square statistic:\", chi_sq_stat)\n",
    "print(\"p-value:\", p_value)\n",
    "\n",
    "if p_value < 0.05:\n",
    "    print(\"Reject null hypothesis: observed frequencies differ significantly from expected frequencies\")\n",
    "else:\n",
    "    print(\"Fail to reject null hypothesis: observed frequencies do not differ significantly from expected frequencies\")"
   ]
  },
  {
   "cell_type": "markdown",
   "id": "8bd1417b-dfcc-45dd-9769-cc3b7d7661ed",
   "metadata": {},
   "source": [
    "---"
   ]
  },
  {
   "cell_type": "markdown",
   "id": "62b796c8-4d86-4354-8a22-a602d5f03112",
   "metadata": {},
   "source": [
    "### 3. Use Python to calculate the chi-square statistic and p-value for a contingency table with the following data:\n",
    "    Group A  Group B\n",
    "\n",
    "Outcome 1 20 15\n",
    "\n",
    "Outcome 2 10 25\n",
    "\n",
    "Outcome 3 15 20"
   ]
  },
  {
   "cell_type": "code",
   "execution_count": 7,
   "id": "d4708f1a-d981-47ba-bd98-3c1ee4682717",
   "metadata": {
    "tags": []
   },
   "outputs": [
    {
     "name": "stdout",
     "output_type": "stream",
     "text": [
      "Chi-square statistic: 5.833333333333334\n",
      "p-value: 0.05411376622282158\n"
     ]
    }
   ],
   "source": [
    "from scipy import stats\n",
    "import numpy as np\n",
    "\n",
    "observed = np.array([[20, 15], [10, 25], [15, 20]])\n",
    "\n",
    "chi_sq_stat, p_value, dof, expected = stats.chi2_contingency(observed)\n",
    "\n",
    "# Print the results\n",
    "print(\"Chi-square statistic:\", chi_sq_stat)\n",
    "print(\"p-value:\", p_value)"
   ]
  },
  {
   "cell_type": "markdown",
   "id": "2c2e8412-c47b-4c75-9ec4-94e788cd7ea8",
   "metadata": {},
   "source": [
    "---"
   ]
  },
  {
   "cell_type": "markdown",
   "id": "719cb230-f54b-40bb-b9a3-73639edec0ed",
   "metadata": {},
   "source": [
    "### 4. A study of the prevalence of smoking in a population of 500 individuals found that 60 individuals smoked. Use Python to calculate the 95% confidence interval for the true proportion of individuals in the population who smoke.\n"
   ]
  },
  {
   "cell_type": "code",
   "execution_count": 10,
   "id": "915dd823-4906-4312-bf5b-fb342449d41c",
   "metadata": {
    "tags": []
   },
   "outputs": [
    {
     "name": "stdout",
     "output_type": "stream",
     "text": [
      "95% confidence interval: (0.09437490012636912, 0.1514195986244106)\n"
     ]
    }
   ],
   "source": [
    "from statsmodels.stats.proportion import proportion_confint\n",
    "\n",
    "num_smokers = 60\n",
    "n = 500\n",
    "\n",
    "p = num_smokers / n\n",
    "ci = proportion_confint(count=num_smokers, nobs=n, alpha=0.05, method='wilson')\n",
    "\n",
    "print(\"95% confidence interval:\", ci)"
   ]
  },
  {
   "cell_type": "markdown",
   "id": "345d781b-e4d4-4772-87e7-c5cf9bf451b6",
   "metadata": {},
   "source": [
    "---"
   ]
  },
  {
   "cell_type": "markdown",
   "id": "62b243ee-ed2f-4174-a138-05bd62e08692",
   "metadata": {},
   "source": [
    "### 5. Calculate the 90% confidence interval for a sample of data with a mean of 75 and a standard deviation of 12 using Python. Interpret the results.\n"
   ]
  },
  {
   "cell_type": "code",
   "execution_count": 11,
   "id": "75e67cae-df42-4af8-b6a6-4aa02e434f09",
   "metadata": {
    "tags": []
   },
   "outputs": [
    {
     "name": "stdout",
     "output_type": "stream",
     "text": [
      "90% confidence interval: (72.15479878877537, 77.84520121122463)\n"
     ]
    }
   ],
   "source": [
    "from scipy import stats\n",
    "import numpy as np\n",
    "\n",
    "mean = 75\n",
    "std_dev = 12\n",
    "n = 50\n",
    "df = n - 1\n",
    "\n",
    "std_error = std_dev / np.sqrt(n)\n",
    "t_value = stats.t.ppf(0.95, df)\n",
    "\n",
    "lower_bound = mean - t_value * std_error\n",
    "upper_bound = mean + t_value * std_error\n",
    "\n",
    "print(\"90% confidence interval:\", (lower_bound, upper_bound))"
   ]
  },
  {
   "cell_type": "markdown",
   "id": "6641d281-95bb-4bfa-af15-e32850f6744b",
   "metadata": {},
   "source": [
    "---"
   ]
  },
  {
   "cell_type": "markdown",
   "id": "6e565c0c-4405-466b-88cb-973b70e94230",
   "metadata": {},
   "source": [
    "### 6. Use Python to plot the chi-square distribution with 10 degrees of freedom. Label the axes and shade the area corresponding to a chi-square statistic of 15.\n"
   ]
  },
  {
   "cell_type": "code",
   "execution_count": 12,
   "id": "3aa24449-1e3d-4e56-9efa-c877b1add0dc",
   "metadata": {
    "tags": []
   },
   "outputs": [
    {
     "data": {
      "image/png": "[encoded data removed]",
      "text/plain": [
       "<Figure size 1000x600 with 1 Axes>"
      ]
     },
     "metadata": {},
     "output_type": "display_data"
    }
   ],
   "source": [
    "from scipy.stats import chi2\n",
    "import numpy as np\n",
    "import matplotlib.pyplot as plt\n",
    "\n",
    "df = 10\n",
    "x = np.linspace(0, 30, 500)\n",
    "y = chi2.pdf(x, df)\n",
    "\n",
    "fig, ax = plt.subplots(figsize=(10, 6))\n",
    "ax.plot(x, y, 'b-', lw=2, alpha=0.6, label='chi2 pdf')\n",
    "x_fill = np.linspace(15, 30, 500)\n",
    "y_fill = chi2.pdf(x_fill, df)\n",
    "ax.fill_between(x_fill, y_fill, 0, alpha=0.5, color='r', label='Area for chi2 stat = 15')\n",
    "\n",
    "ax.set_xlabel('Chi-square statistic')\n",
    "ax.set_ylabel('Probability density')\n",
    "ax.set_title('Chi-square distribution with 10 degrees of freedom')\n",
    "ax.legend(loc='upper right')\n",
    "plt.show()"
   ]
  },
  {
   "cell_type": "markdown",
   "id": "23237b9e-41da-4e50-b723-609a81f1b678",
   "metadata": {},
   "source": [
    "---"
   ]
  },
  {
   "cell_type": "markdown",
   "id": "90a5c003-e8b5-4e78-9286-873effa2f4a4",
   "metadata": {},
   "source": [
    "### 7. A random sample of 1000 people was asked if they preferred Coke or Pepsi. Of the sample, 520 preferred Coke. Calculate a 99% confidence interval for the true proportion of people in the population who prefer Coke.\n"
   ]
  },
  {
   "cell_type": "code",
   "execution_count": 13,
   "id": "cfc22ce4-8dd1-455d-9c8a-f1f4e8ac947c",
   "metadata": {
    "tags": []
   },
   "outputs": [
    {
     "name": "stdout",
     "output_type": "stream",
     "text": [
      "99% confidence interval: (0.4793051576779699, 0.5606948423220302)\n"
     ]
    }
   ],
   "source": [
    "import scipy.stats as st\n",
    "import math\n",
    "\n",
    "n = 1000\n",
    "x = 520\n",
    "p = x/n\n",
    "\n",
    "z = st.norm.ppf(0.995)\n",
    "me = z*math.sqrt(p*(1-p)/n)\n",
    "ci = (p-me, p+me)\n",
    "\n",
    "print(\"99% confidence interval:\", ci)"
   ]
  },
  {
   "cell_type": "markdown",
   "id": "ee660b76-908f-42e9-befc-52d58c61a850",
   "metadata": {},
   "source": [
    "---"
   ]
  },
  {
   "cell_type": "markdown",
   "id": "300e88bb-061c-4ceb-a547-4d1b11696185",
   "metadata": {},
   "source": [
    "### 8. A researcher hypothesizes that a coin is biased towards tails. They flip the coin 100 times and observe 45 tails. Conduct a chi-square goodness of fit test to determine if the observed frequencies match the expected frequencies of a fair coin. Use a significance level of 0.05.\n"
   ]
  },
  {
   "cell_type": "code",
   "execution_count": 14,
   "id": "f78a6b60-74f1-48a5-8071-cbfb38529957",
   "metadata": {
    "tags": []
   },
   "outputs": [
    {
     "name": "stdout",
     "output_type": "stream",
     "text": [
      "Chi-square test statistic: 1.0\n",
      "p-value: 0.31731050786291115\n",
      "Critical value: 3.841458820694124\n",
      "Fail to reject the null hypothesis: There is not enough evidence to suggest that the coin is biased towards tails.\n"
     ]
    }
   ],
   "source": [
    "import scipy.stats as stats\n",
    "\n",
    "observed = [55, 45]\n",
    "expected = [50, 50]\n",
    "\n",
    "chi2, p = stats.chisquare(observed, expected)\n",
    "df = len(observed) - 1\n",
    "alpha = 0.05\n",
    "critical_value = stats.chi2.ppf(1-alpha, df)\n",
    "\n",
    "print(\"Chi-square test statistic:\", chi2)\n",
    "print(\"p-value:\", p)\n",
    "print(\"Critical value:\", critical_value)\n",
    "\n",
    "if chi2 > critical_value:\n",
    "    print(\"Reject the null hypothesis: The coin is biased towards tails.\")\n",
    "else:\n",
    "    print(\"Fail to reject the null hypothesis: There is not enough evidence to suggest that the coin is biased towards tails.\")\n"
   ]
  },
  {
   "cell_type": "markdown",
   "id": "383eada6-6e4b-4f96-98a2-63a9bf8e1d9d",
   "metadata": {},
   "source": [
    "---"
   ]
  },
  {
   "cell_type": "markdown",
   "id": "2ef48477-698f-4721-ae2f-27c5924c7839",
   "metadata": {},
   "source": [
    "### 9. A study was conducted to determine if there is an association between smoking status (smoker or non-smoker) and lung cancer diagnosis (yes or no). The results are shown in the contingency table below. Conduct a chi-square test for independence to determine if there is a significant association between smoking status and lung cancer diagnosis.\n",
    "   Lung Cancer: Yes  Lung Cancer: No\n",
    "\n",
    "Smoker 60 140\n",
    "\n",
    "Non-smoker 30 170\n",
    "\n",
    "Use a significance level of 0.05.\n",
    "\n"
   ]
  },
  {
   "cell_type": "code",
   "execution_count": 15,
   "id": "d808b72d-bc8a-4847-b0d3-1e65848ae2f0",
   "metadata": {
    "tags": []
   },
   "outputs": [
    {
     "name": "stdout",
     "output_type": "stream",
     "text": [
      "Chi-square statistic: 12.057347670250895\n",
      "Degrees of freedom: 1\n",
      "p-value: 0.0005158863863703744\n",
      "There is a significant association between smoking status and lung cancer diagnosis.\n"
     ]
    }
   ],
   "source": [
    "import numpy as np\n",
    "from scipy.stats import chi2_contingency\n",
    "\n",
    "\n",
    "observed = np.array([[60, 140], [30, 170]])\n",
    "chi2, p, dof, expected = chi2_contingency(observed)\n",
    "\n",
    "print(\"Chi-square statistic:\", chi2)\n",
    "print(\"Degrees of freedom:\", dof)\n",
    "print(\"p-value:\", p)\n",
    "alpha = 0.05\n",
    "if p < alpha:\n",
    "    print(\"There is a significant association between smoking status and lung cancer diagnosis.\")\n",
    "else:\n",
    "    print(\"There is no significant association between smoking status and lung cancer diagnosis.\")"
   ]
  },
  {
   "cell_type": "markdown",
   "id": "373ac0ae-a263-4402-b08f-c64ab127d107",
   "metadata": {},
   "source": [
    "---"
   ]
  },
  {
   "cell_type": "markdown",
   "id": "6398c9c2-bd85-4bf4-948b-aba73585e5a8",
   "metadata": {},
   "source": [
    "### 10. A study was conducted to determine if the proportion of people who prefer milk chocolate, dark chocolate, or white chocolate is different in the U.S. versus the U.K. A random sample of 500 people from the U.S. and a random sample of 500 people from the U.K. were surveyed. The results are shown in the contingency table below. Conduct a chi-square test for independence to determine if there is a significant association between chocolate preference and country of origin.\n",
    "  Milk Chocolate  Dark Chocolate White Chocolate\n",
    "\n",
    "U.S. (n=500) 200 150 150\n",
    "\n",
    "U.K. (n=500) 225 175 100\n",
    "\n"
   ]
  },
  {
   "cell_type": "code",
   "execution_count": 16,
   "id": "f596cc35-24b8-4ab5-8638-6dc335916ee4",
   "metadata": {
    "tags": []
   },
   "outputs": [
    {
     "name": "stdout",
     "output_type": "stream",
     "text": [
      "Chi-square statistic: 13.393665158371041\n",
      "Degrees of freedom: 2\n",
      "p-value: 0.0012348168997745915\n",
      "There is a significant association between chocolate preference and country of origin.\n"
     ]
    }
   ],
   "source": [
    "import numpy as np\n",
    "from scipy.stats import chi2_contingency\n",
    "\n",
    "observed = np.array([[200, 150, 150], [225, 175, 100]])\n",
    "chi2, p, dof, expected = chi2_contingency(observed)\n",
    "\n",
    "print(\"Chi-square statistic:\", chi2)\n",
    "print(\"Degrees of freedom:\", dof)\n",
    "print(\"p-value:\", p)\n",
    "\n",
    "alpha = 0.05\n",
    "if p < alpha:\n",
    "    print(\"There is a significant association between chocolate preference and country of origin.\")\n",
    "else:\n",
    "    print(\"There is no significant association between chocolate preference and country of origin.\")"
   ]
  },
  {
   "cell_type": "markdown",
   "id": "b6c2af07-0018-4553-b968-918c66cfe168",
   "metadata": {},
   "source": [
    "---"
   ]
  },
  {
   "cell_type": "markdown",
   "id": "97826ff2-a893-4bdc-8be5-a30bba3b4940",
   "metadata": {},
   "source": [
    "### 11. A random sample of 30 people was selected from a population with an unknown mean and standard deviation. The sample mean was found to be 72 and the sample standard deviation was found to be 10. Conduct a hypothesis test to determine if the population mean is significantly different from 70. Use a significance level of 0.05.\n"
   ]
  },
  {
   "cell_type": "code",
   "execution_count": 17,
   "id": "bbc9221e-70cf-46b2-aaf2-76f5d9f6c828",
   "metadata": {
    "tags": []
   },
   "outputs": [
    {
     "name": "stdout",
     "output_type": "stream",
     "text": [
      "Fail to reject the null hypothesis\n",
      "t-statistic: 1.0954451150103321\n",
      "p-value: 0.28233623728606977\n"
     ]
    }
   ],
   "source": [
    "import numpy as np\n",
    "from scipy.stats import t\n",
    "\n",
    "x_bar = 72\n",
    "s = 10\n",
    "n = 30\n",
    "mu0 = 70\n",
    "\n",
    "t_stat = (x_bar - mu0) / (s / np.sqrt(n))\n",
    "p_value = 2 * t.sf(np.abs(t_stat), n-1)\n",
    "\n",
    "alpha = 0.05\n",
    "if p_value < alpha:\n",
    "    print(\"Reject the null hypothesis\")\n",
    "else:\n",
    "    print(\"Fail to reject the null hypothesis\")\n",
    "    \n",
    "print(\"t-statistic:\", t_stat)\n",
    "print(\"p-value:\", p_value)"
   ]
  },
  {
   "cell_type": "markdown",
   "id": "b177525d-7122-48c3-8e39-8ea251df5341",
   "metadata": {},
   "source": [
    "---"
   ]
  }
 ],
 "metadata": {
  "kernelspec": {
   "display_name": "Python 3 (ipykernel)",
   "language": "python",
   "name": "python3"
  },
  "language_info": {
   "codemirror_mode": {
    "name": "ipython",
    "version": 3
   },
   "file_extension": ".py",
   "mimetype": "text/x-python",
   "name": "python",
   "nbconvert_exporter": "python",
   "pygments_lexer": "ipython3",
   "version": "3.11.1"
  }
 },
 "nbformat": 4,
 "nbformat_minor": 5
}
